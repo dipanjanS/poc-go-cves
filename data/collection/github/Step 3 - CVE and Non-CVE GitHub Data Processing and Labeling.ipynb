{
 "cells": [
  {
   "cell_type": "markdown",
   "metadata": {},
   "source": [
    "# Processing GitHub Issues"
   ]
  },
  {
   "cell_type": "code",
   "execution_count": 1,
   "metadata": {},
   "outputs": [],
   "source": [
    "import pandas as pd\n",
    "import numpy as np\n",
    "import os"
   ]
  },
  {
   "cell_type": "code",
   "execution_count": 131,
   "metadata": {},
   "outputs": [
    {
     "name": "stdout",
     "output_type": "stream",
     "text": [
      "<class 'pandas.core.frame.DataFrame'>\n",
      "RangeIndex: 434016 entries, 0 to 434015\n",
      "Data columns (total 18 columns):\n",
      "repo_name                434016 non-null object\n",
      "event_type               434016 non-null object\n",
      "actor_id                 434016 non-null int64\n",
      "actor_name               434016 non-null object\n",
      "issue_status             434016 non-null object\n",
      "issue_api_url            427611 non-null object\n",
      "issue_url                427611 non-null object\n",
      "issue_creator_name       427611 non-null object\n",
      "issue_creator_api_url    427611 non-null object\n",
      "issue_creator_url        422971 non-null object\n",
      "comment_count            427611 non-null float64\n",
      "issue_id                 427611 non-null float64\n",
      "issue_number             427611 non-null float64\n",
      "issue_created_at         427611 non-null object\n",
      "issue_updated_at         427611 non-null object\n",
      "issue_closed_at          198629 non-null object\n",
      "issue_title              427609 non-null object\n",
      "issue_body               414324 non-null object\n",
      "dtypes: float64(3), int64(1), object(14)\n",
      "memory usage: 59.6+ MB\n"
     ]
    }
   ],
   "source": [
    "gh_bq_issues = pd.read_csv('GH_issues.csv')\n",
    "gh_bq_issues.info()"
   ]
  },
  {
   "cell_type": "code",
   "execution_count": 132,
   "metadata": {},
   "outputs": [
    {
     "data": {
      "text/plain": [
       "(6405, 18)"
      ]
     },
     "execution_count": 132,
     "metadata": {},
     "output_type": "execute_result"
    }
   ],
   "source": [
    "gh_bq_issues[pd.isnull(gh_bq_issues.issue_id)].shape"
   ]
  },
  {
   "cell_type": "code",
   "execution_count": 133,
   "metadata": {},
   "outputs": [
    {
     "data": {
      "text/plain": [
       "(427611, 18)"
      ]
     },
     "execution_count": 133,
     "metadata": {},
     "output_type": "execute_result"
    }
   ],
   "source": [
    "gh_bq_issues = gh_bq_issues[~pd.isnull(gh_bq_issues.issue_id)]\n",
    "gh_bq_issues.shape"
   ]
  },
  {
   "cell_type": "code",
   "execution_count": 134,
   "metadata": {},
   "outputs": [
    {
     "data": {
      "text/plain": [
       "179150396.0    18\n",
       "316179685.0    10\n",
       "230355205.0    10\n",
       "196166690.0    10\n",
       "266556716.0    10\n",
       "126604565.0     9\n",
       "313417242.0     9\n",
       "197549453.0     8\n",
       "201596242.0     8\n",
       "95072991.0      8\n",
       "Name: issue_id, dtype: int64"
      ]
     },
     "execution_count": 134,
     "metadata": {},
     "output_type": "execute_result"
    }
   ],
   "source": [
    "gh_bq_issues.issue_id.value_counts().iloc[:10]"
   ]
  },
  {
   "cell_type": "markdown",
   "metadata": {},
   "source": [
    "# Checking and Removing Issues with wrong timestamp"
   ]
  },
  {
   "cell_type": "code",
   "execution_count": 135,
   "metadata": {},
   "outputs": [
    {
     "data": {
      "text/plain": [
       "['3012-03-02T14:10:15Z', '3012-03-02T14:10:15Z', '3012-03-02T14:10:15Z']"
      ]
     },
     "execution_count": 135,
     "metadata": {},
     "output_type": "execute_result"
    }
   ],
   "source": [
    "[item for item in gh_bq_issues.issue_created_at.tolist() if item.startswith('3')]"
   ]
  },
  {
   "cell_type": "code",
   "execution_count": 136,
   "metadata": {},
   "outputs": [
    {
     "data": {
      "text/plain": [
       "[]"
      ]
     },
     "execution_count": 136,
     "metadata": {},
     "output_type": "execute_result"
    }
   ],
   "source": [
    "[item for item in gh_bq_issues.issue_updated_at.tolist() if item.startswith('3')]"
   ]
  },
  {
   "cell_type": "code",
   "execution_count": 137,
   "metadata": {},
   "outputs": [
    {
     "data": {
      "text/plain": [
       "[]"
      ]
     },
     "execution_count": 137,
     "metadata": {},
     "output_type": "execute_result"
    }
   ],
   "source": [
    "[item for item in gh_bq_issues.issue_closed_at.tolist() if not pd.isnull(item) and item.startswith('3')]"
   ]
  },
  {
   "cell_type": "code",
   "execution_count": 138,
   "metadata": {},
   "outputs": [],
   "source": [
    "gh_bq_issues = gh_bq_issues[~(gh_bq_issues.issue_created_at == '3012-03-02T14:10:15Z')]"
   ]
  },
  {
   "cell_type": "code",
   "execution_count": 139,
   "metadata": {},
   "outputs": [
    {
     "data": {
      "text/plain": [
       "(427608, 18)"
      ]
     },
     "execution_count": 139,
     "metadata": {},
     "output_type": "execute_result"
    }
   ],
   "source": [
    "gh_bq_issues.issue_created_at = pd.to_datetime(gh_bq_issues.issue_created_at)\n",
    "gh_bq_issues.issue_updated_at = pd.to_datetime(gh_bq_issues.issue_updated_at)\n",
    "gh_bq_issues.issue_closed_at = pd.to_datetime(gh_bq_issues.issue_closed_at)\n",
    "gh_bq_issues.shape"
   ]
  },
  {
   "cell_type": "markdown",
   "metadata": {},
   "source": [
    "# Removing Duplicate Issues \n",
    "### Keeping each issue record based on last updated timestamp"
   ]
  },
  {
   "cell_type": "code",
   "execution_count": 140,
   "metadata": {},
   "outputs": [
    {
     "data": {
      "text/plain": [
       "(241886, 18)"
      ]
     },
     "execution_count": 140,
     "metadata": {},
     "output_type": "execute_result"
    }
   ],
   "source": [
    "gh_bq_issues = gh_bq_issues.loc[gh_bq_issues.groupby('issue_id').issue_updated_at.idxmax(skipna=False)]\n",
    "gh_bq_issues.shape"
   ]
  },
  {
   "cell_type": "code",
   "execution_count": 141,
   "metadata": {},
   "outputs": [
    {
     "data": {
      "text/plain": [
       "268435422.0    1\n",
       "348539014.0    1\n",
       "174274733.0    1\n",
       "348548638.0    1\n",
       "87137133.0     1\n",
       "174273911.0    1\n",
       "2723023.0      1\n",
       "348546546.0    1\n",
       "84961244.0     1\n",
       "174272484.0    1\n",
       "Name: issue_id, dtype: int64"
      ]
     },
     "execution_count": 141,
     "metadata": {},
     "output_type": "execute_result"
    }
   ],
   "source": [
    "gh_bq_issues.issue_id.value_counts().iloc[:10]"
   ]
  },
  {
   "cell_type": "markdown",
   "metadata": {},
   "source": [
    "# Reading in Positive CVE related GitHub Issue Links"
   ]
  },
  {
   "cell_type": "code",
   "execution_count": 142,
   "metadata": {},
   "outputs": [
    {
     "name": "stdout",
     "output_type": "stream",
     "text": [
      "<class 'pandas.core.frame.DataFrame'>\n",
      "RangeIndex: 249 entries, 0 to 248\n",
      "Data columns (total 1 columns):\n",
      "issue    249 non-null object\n",
      "dtypes: object(1)\n",
      "memory usage: 2.0+ KB\n"
     ]
    }
   ],
   "source": [
    "gh_pos_issue_links = pd.read_csv('gh_sec_issue_links.csv')\n",
    "gh_pos_issue_links.info()"
   ]
  },
  {
   "cell_type": "code",
   "execution_count": 143,
   "metadata": {},
   "outputs": [
    {
     "data": {
      "text/plain": [
       "249"
      ]
     },
     "execution_count": 143,
     "metadata": {},
     "output_type": "execute_result"
    }
   ],
   "source": [
    "cve_issue_links = gh_pos_issue_links.issue.tolist()\n",
    "len(cve_issue_links)"
   ]
  },
  {
   "cell_type": "markdown",
   "metadata": {},
   "source": [
    "# Extracting CVE issues from the larger issues dataset"
   ]
  },
  {
   "cell_type": "code",
   "execution_count": 144,
   "metadata": {},
   "outputs": [
    {
     "data": {
      "text/plain": [
       "(201, 18)"
      ]
     },
     "execution_count": 144,
     "metadata": {},
     "output_type": "execute_result"
    }
   ],
   "source": [
    "cve_issues = gh_bq_issues[gh_bq_issues.issue_url.isin(cve_issue_links)]\n",
    "cve_issues.shape"
   ]
  },
  {
   "cell_type": "code",
   "execution_count": 145,
   "metadata": {},
   "outputs": [
    {
     "data": {
      "text/plain": [
       "https://github.com/pippo-java/pippo/issues/466          1\n",
       "https://github.com/bram85/topydo/issues/240             1\n",
       "https://github.com/dlitz/pycrypto/issues/253            1\n",
       "https://github.com/primefaces/primefaces/issues/3468    1\n",
       "https://github.com/spray/spray-json/issues/278          1\n",
       "https://github.com/coveo/saml-client/issues/7           1\n",
       "https://github.com/geminabox/geminabox/issues/278       1\n",
       "https://github.com/nahsra/antisamy/issues/2             1\n",
       "https://github.com/twbs/bootstrap-sass/issues/1157      1\n",
       "https://github.com/ansible/ansible/issues/42388         1\n",
       "Name: issue_url, dtype: int64"
      ]
     },
     "execution_count": 145,
     "metadata": {},
     "output_type": "execute_result"
    }
   ],
   "source": [
    "cve_issues.issue_url.value_counts().iloc[:10]"
   ]
  },
  {
   "cell_type": "code",
   "execution_count": 146,
   "metadata": {},
   "outputs": [
    {
     "data": {
      "text/html": [
       "<div>\n",
       "<style scoped>\n",
       "    .dataframe tbody tr th:only-of-type {\n",
       "        vertical-align: middle;\n",
       "    }\n",
       "\n",
       "    .dataframe tbody tr th {\n",
       "        vertical-align: top;\n",
       "    }\n",
       "\n",
       "    .dataframe thead th {\n",
       "        text-align: right;\n",
       "    }\n",
       "</style>\n",
       "<table border=\"1\" class=\"dataframe\">\n",
       "  <thead>\n",
       "    <tr style=\"text-align: right;\">\n",
       "      <th></th>\n",
       "      <th>repo_name</th>\n",
       "      <th>event_type</th>\n",
       "      <th>actor_id</th>\n",
       "      <th>actor_name</th>\n",
       "      <th>issue_status</th>\n",
       "      <th>issue_api_url</th>\n",
       "      <th>issue_url</th>\n",
       "      <th>issue_creator_name</th>\n",
       "      <th>issue_creator_api_url</th>\n",
       "      <th>issue_creator_url</th>\n",
       "      <th>comment_count</th>\n",
       "      <th>issue_id</th>\n",
       "      <th>issue_number</th>\n",
       "      <th>issue_created_at</th>\n",
       "      <th>issue_updated_at</th>\n",
       "      <th>issue_closed_at</th>\n",
       "      <th>issue_title</th>\n",
       "      <th>issue_body</th>\n",
       "    </tr>\n",
       "  </thead>\n",
       "  <tbody>\n",
       "    <tr>\n",
       "      <th>108557</th>\n",
       "      <td>pypa/pip</td>\n",
       "      <td>IssuesEvent</td>\n",
       "      <td>716529</td>\n",
       "      <td>glyph</td>\n",
       "      <td>opened</td>\n",
       "      <td>https://api.github.com/repos/pypa/pip/issues/425</td>\n",
       "      <td>https://github.com/pypa/pip/issues/425</td>\n",
       "      <td>glyph</td>\n",
       "      <td>https://api.github.com/users/glyph</td>\n",
       "      <td>NaN</td>\n",
       "      <td>0.0</td>\n",
       "      <td>2728444.0</td>\n",
       "      <td>425.0</td>\n",
       "      <td>2012-01-04 21:15:03</td>\n",
       "      <td>2012-01-04 21:15:03</td>\n",
       "      <td>NaT</td>\n",
       "      <td>pip should not execute arbitrary code from the...</td>\n",
       "      <td>When you 'pip install' something, it fetches t...</td>\n",
       "    </tr>\n",
       "    <tr>\n",
       "      <th>307488</th>\n",
       "      <td>yaml/pyyaml</td>\n",
       "      <td>IssuesEvent</td>\n",
       "      <td>240830</td>\n",
       "      <td>sigmavirus24</td>\n",
       "      <td>closed</td>\n",
       "      <td>https://api.github.com/repos/yaml/pyyaml/issues/5</td>\n",
       "      <td>https://github.com/yaml/pyyaml/issues/5</td>\n",
       "      <td>sigmavirus24</td>\n",
       "      <td>https://api.github.com/users/sigmavirus24</td>\n",
       "      <td>https://github.com/sigmavirus24</td>\n",
       "      <td>8.0</td>\n",
       "      <td>23552298.0</td>\n",
       "      <td>5.0</td>\n",
       "      <td>2013-12-02 04:56:41</td>\n",
       "      <td>2017-08-26 15:26:02</td>\n",
       "      <td>2017-08-26 15:26:02</td>\n",
       "      <td>Make load safe_load</td>\n",
       "      <td>- [ ] Make `yaml.load` default to safe - [ ] A...</td>\n",
       "    </tr>\n",
       "    <tr>\n",
       "      <th>213339</th>\n",
       "      <td>neo4j/neo4j</td>\n",
       "      <td>IssuesEvent</td>\n",
       "      <td>79651</td>\n",
       "      <td>cleishm</td>\n",
       "      <td>closed</td>\n",
       "      <td>https://api.github.com/repos/neo4j/neo4j/issue...</td>\n",
       "      <td>https://github.com/neo4j/neo4j/issues/2826</td>\n",
       "      <td>DinisCruz</td>\n",
       "      <td>https://api.github.com/users/DinisCruz</td>\n",
       "      <td>https://github.com/DinisCruz</td>\n",
       "      <td>2.0</td>\n",
       "      <td>39909610.0</td>\n",
       "      <td>2826.0</td>\n",
       "      <td>2014-08-10 15:09:12</td>\n",
       "      <td>2015-04-20 01:27:27</td>\n",
       "      <td>2015-04-20 01:27:27</td>\n",
       "      <td>CSRF vulnerability CVE-2013-7259</td>\n",
       "      <td>Hi, I'm looking at using Neo4J for my current ...</td>\n",
       "    </tr>\n",
       "    <tr>\n",
       "      <th>280227</th>\n",
       "      <td>jruby/jruby</td>\n",
       "      <td>IssuesEvent</td>\n",
       "      <td>45967</td>\n",
       "      <td>kares</td>\n",
       "      <td>closed</td>\n",
       "      <td>https://api.github.com/repos/jruby/jruby/issue...</td>\n",
       "      <td>https://github.com/jruby/jruby/issues/2452</td>\n",
       "      <td>headius</td>\n",
       "      <td>https://api.github.com/users/headius</td>\n",
       "      <td>https://github.com/headius</td>\n",
       "      <td>11.0</td>\n",
       "      <td>54080259.0</td>\n",
       "      <td>2452.0</td>\n",
       "      <td>2015-01-12 17:14:59</td>\n",
       "      <td>2017-06-22 18:08:14</td>\n",
       "      <td>2017-06-22 18:08:14</td>\n",
       "      <td>Add salt to Array#hash</td>\n",
       "      <td>For #2437, we partially aligned our Array#hash...</td>\n",
       "    </tr>\n",
       "    <tr>\n",
       "      <th>169019</th>\n",
       "      <td>pypiserver/pypiserver</td>\n",
       "      <td>IssuesEvent</td>\n",
       "      <td>501585</td>\n",
       "      <td>ankostis</td>\n",
       "      <td>closed</td>\n",
       "      <td>https://api.github.com/repos/pypiserver/pypise...</td>\n",
       "      <td>https://github.com/pypiserver/pypiserver/issue...</td>\n",
       "      <td>zenzic64</td>\n",
       "      <td>https://api.github.com/users/zenzic64</td>\n",
       "      <td>https://github.com/zenzic64</td>\n",
       "      <td>2.0</td>\n",
       "      <td>58386527.0</td>\n",
       "      <td>77.0</td>\n",
       "      <td>2015-02-20 17:47:09</td>\n",
       "      <td>2015-02-27 12:15:59</td>\n",
       "      <td>2015-02-27 12:15:59</td>\n",
       "      <td>Cross Site Scripting Vulnerability</td>\n",
       "      <td>Versions up to and including 1.1.7 contain a c...</td>\n",
       "    </tr>\n",
       "  </tbody>\n",
       "</table>\n",
       "</div>"
      ],
      "text/plain": [
       "                    repo_name   event_type  actor_id    actor_name  \\\n",
       "108557               pypa/pip  IssuesEvent    716529         glyph   \n",
       "307488            yaml/pyyaml  IssuesEvent    240830  sigmavirus24   \n",
       "213339            neo4j/neo4j  IssuesEvent     79651       cleishm   \n",
       "280227            jruby/jruby  IssuesEvent     45967         kares   \n",
       "169019  pypiserver/pypiserver  IssuesEvent    501585      ankostis   \n",
       "\n",
       "       issue_status                                      issue_api_url  \\\n",
       "108557       opened   https://api.github.com/repos/pypa/pip/issues/425   \n",
       "307488       closed  https://api.github.com/repos/yaml/pyyaml/issues/5   \n",
       "213339       closed  https://api.github.com/repos/neo4j/neo4j/issue...   \n",
       "280227       closed  https://api.github.com/repos/jruby/jruby/issue...   \n",
       "169019       closed  https://api.github.com/repos/pypiserver/pypise...   \n",
       "\n",
       "                                                issue_url issue_creator_name  \\\n",
       "108557             https://github.com/pypa/pip/issues/425              glyph   \n",
       "307488            https://github.com/yaml/pyyaml/issues/5       sigmavirus24   \n",
       "213339         https://github.com/neo4j/neo4j/issues/2826          DinisCruz   \n",
       "280227         https://github.com/jruby/jruby/issues/2452            headius   \n",
       "169019  https://github.com/pypiserver/pypiserver/issue...           zenzic64   \n",
       "\n",
       "                            issue_creator_api_url  \\\n",
       "108557         https://api.github.com/users/glyph   \n",
       "307488  https://api.github.com/users/sigmavirus24   \n",
       "213339     https://api.github.com/users/DinisCruz   \n",
       "280227       https://api.github.com/users/headius   \n",
       "169019      https://api.github.com/users/zenzic64   \n",
       "\n",
       "                      issue_creator_url  comment_count    issue_id  \\\n",
       "108557                              NaN            0.0   2728444.0   \n",
       "307488  https://github.com/sigmavirus24            8.0  23552298.0   \n",
       "213339     https://github.com/DinisCruz            2.0  39909610.0   \n",
       "280227       https://github.com/headius           11.0  54080259.0   \n",
       "169019      https://github.com/zenzic64            2.0  58386527.0   \n",
       "\n",
       "        issue_number    issue_created_at    issue_updated_at  \\\n",
       "108557         425.0 2012-01-04 21:15:03 2012-01-04 21:15:03   \n",
       "307488           5.0 2013-12-02 04:56:41 2017-08-26 15:26:02   \n",
       "213339        2826.0 2014-08-10 15:09:12 2015-04-20 01:27:27   \n",
       "280227        2452.0 2015-01-12 17:14:59 2017-06-22 18:08:14   \n",
       "169019          77.0 2015-02-20 17:47:09 2015-02-27 12:15:59   \n",
       "\n",
       "           issue_closed_at                                        issue_title  \\\n",
       "108557                 NaT  pip should not execute arbitrary code from the...   \n",
       "307488 2017-08-26 15:26:02                                Make load safe_load   \n",
       "213339 2015-04-20 01:27:27                   CSRF vulnerability CVE-2013-7259   \n",
       "280227 2017-06-22 18:08:14                             Add salt to Array#hash   \n",
       "169019 2015-02-27 12:15:59                 Cross Site Scripting Vulnerability   \n",
       "\n",
       "                                               issue_body  \n",
       "108557  When you 'pip install' something, it fetches t...  \n",
       "307488  - [ ] Make `yaml.load` default to safe - [ ] A...  \n",
       "213339  Hi, I'm looking at using Neo4J for my current ...  \n",
       "280227  For #2437, we partially aligned our Array#hash...  \n",
       "169019  Versions up to and including 1.1.7 contain a c...  "
      ]
     },
     "execution_count": 146,
     "metadata": {},
     "output_type": "execute_result"
    }
   ],
   "source": [
    "cve_issues.head()"
   ]
  },
  {
   "cell_type": "code",
   "execution_count": 147,
   "metadata": {},
   "outputs": [],
   "source": [
    "found_issue_urls = cve_issues.issue_url.tolist()"
   ]
  },
  {
   "cell_type": "markdown",
   "metadata": {},
   "source": [
    "# Getting CVE Positive issues not found in Big Query Data"
   ]
  },
  {
   "cell_type": "code",
   "execution_count": 151,
   "metadata": {},
   "outputs": [
    {
     "data": {
      "text/plain": [
       "(['https://github.com/spring-projects/spring-security/issues/3563',\n",
       "  'https://github.com/DozerMapper/dozer/issues/217',\n",
       "  'https://github.com/urllib3/urllib3/issues/1316',\n",
       "  'https://github.com/ajenti/ajenti/issues/602',\n",
       "  'https://github.com/elastic/elasticsearch/issues/5853',\n",
       "  'https://github.com/netty/netty/issues/2441',\n",
       "  'https://github.com/Snorby/snorby/issues/261',\n",
       "  'https://github.com/Hygieia/Hygieia/issues/1031',\n",
       "  'https://github.com/esapi/esapi-java-legacy/issues/306',\n",
       "  'https://github.com/FusionAuth/fusionauth-jwt/issues/3'],\n",
       " 48)"
      ]
     },
     "execution_count": 151,
     "metadata": {},
     "output_type": "execute_result"
    }
   ],
   "source": [
    "not_found_issue_urls = list(set(cve_issue_links) - set(found_issue_urls))\n",
    "not_found_issue_urls[:10], len(not_found_issue_urls)"
   ]
  },
  {
   "cell_type": "markdown",
   "metadata": {},
   "source": [
    "# Extracting not found CVE issues with GitHub API"
   ]
  },
  {
   "cell_type": "code",
   "execution_count": 160,
   "metadata": {},
   "outputs": [],
   "source": [
    "import requests\n",
    "from tqdm import tqdm\n",
    "import re"
   ]
  },
  {
   "cell_type": "code",
   "execution_count": 164,
   "metadata": {},
   "outputs": [
    {
     "data": {
      "text/plain": [
       "['https://api.github.com/repos/spring-projects/spring-security/issues/3563',\n",
       " 'https://api.github.com/repos/DozerMapper/dozer/issues/217',\n",
       " 'https://api.github.com/repos/urllib3/urllib3/issues/1316',\n",
       " 'https://api.github.com/repos/ajenti/ajenti/issues/602',\n",
       " 'https://api.github.com/repos/elastic/elasticsearch/issues/5853',\n",
       " 'https://api.github.com/repos/netty/netty/issues/2441',\n",
       " 'https://api.github.com/repos/Snorby/snorby/issues/261',\n",
       " 'https://api.github.com/repos/Hygieia/Hygieia/issues/1031',\n",
       " 'https://api.github.com/repos/esapi/esapi-java-legacy/issues/306',\n",
       " 'https://api.github.com/repos/FusionAuth/fusionauth-jwt/issues/3']"
      ]
     },
     "execution_count": 164,
     "metadata": {},
     "output_type": "execute_result"
    }
   ],
   "source": [
    "not_found_api_urls = ['https://api.github.com/repos/'+re.search(r'.*github.com/(.*)', link, re.I).groups()[0]\n",
    "                          for link in not_found_issue_urls]\n",
    "not_found_api_urls[:10]"
   ]
  },
  {
   "cell_type": "code",
   "execution_count": 172,
   "metadata": {},
   "outputs": [
    {
     "name": "stderr",
     "output_type": "stream",
     "text": [
      "100%|██████████| 48/48 [00:59<00:00,  1.14s/it]"
     ]
    },
    {
     "name": "stdout",
     "output_type": "stream",
     "text": [
      "48\n"
     ]
    },
    {
     "name": "stderr",
     "output_type": "stream",
     "text": [
      "\n"
     ]
    }
   ],
   "source": [
    "data = []\n",
    "for link in tqdm(not_found_api_urls):\n",
    "    response = requests.get(link,\n",
    "                            auth=('dipanjanS', os.environ['GITHUB_TOKEN']))\n",
    "    if not response.status_code == 200:\n",
    "        print('Failed for link: '+link)\n",
    "        # log this later\n",
    "    else:\n",
    "        content = response.json()\n",
    "        issue_dict = {\n",
    "            'repo_name': re.search(r'.*github.com/repos/(.*?)/issues', \n",
    "                                   link, re.I).groups()[0],\n",
    "            'event_type': 'IssuesEvent',\n",
    "            'actor_id': content.get('user').get('id'),\n",
    "            'actor_name': content.get('user').get('login'),\n",
    "            'issue_status': content.get('state'),\n",
    "            'issue_api_url': content.get('url'),\n",
    "            'issue_url': content.get('html_url'),\n",
    "            'issue_creator_name': content.get('user').get('login'),\n",
    "            'issue_creator_api_url': content.get('user').get('url'),\n",
    "            'issue_creator_url': content.get('user').get('html_url'),\n",
    "            'comment_count': content.get('comments'),\n",
    "            'issue_id': content.get('id'),\n",
    "            'issue_number': content.get('number'),\n",
    "            'issue_created_at': content.get('created_at'),\n",
    "            'issue_updated_at': content.get('updated_at'),\n",
    "            'issue_closed_at': content.get('closed_at'),\n",
    "            'issue_title': content.get('title'),\n",
    "            'issue_body': content.get('body')\n",
    "        }\n",
    "        if issue_dict:\n",
    "            data.append(issue_dict)\n",
    "\n",
    "print(len(data))"
   ]
  },
  {
   "cell_type": "code",
   "execution_count": 175,
   "metadata": {},
   "outputs": [
    {
     "name": "stdout",
     "output_type": "stream",
     "text": [
      "<class 'pandas.core.frame.DataFrame'>\n",
      "RangeIndex: 48 entries, 0 to 47\n",
      "Data columns (total 18 columns):\n",
      "repo_name                48 non-null object\n",
      "event_type               48 non-null object\n",
      "actor_id                 48 non-null int64\n",
      "actor_name               48 non-null object\n",
      "issue_status             48 non-null object\n",
      "issue_api_url            48 non-null object\n",
      "issue_url                48 non-null object\n",
      "issue_creator_name       48 non-null object\n",
      "issue_creator_api_url    48 non-null object\n",
      "issue_creator_url        48 non-null object\n",
      "comment_count            48 non-null int64\n",
      "issue_id                 48 non-null int64\n",
      "issue_number             48 non-null int64\n",
      "issue_created_at         48 non-null object\n",
      "issue_updated_at         48 non-null object\n",
      "issue_closed_at          43 non-null object\n",
      "issue_title              48 non-null object\n",
      "issue_body               48 non-null object\n",
      "dtypes: int64(4), object(14)\n",
      "memory usage: 6.8+ KB\n"
     ]
    }
   ],
   "source": [
    "cve_issues_nf = pd.DataFrame(data)\n",
    "cve_issues_nf = cve_issues_nf[cve_issues.columns.tolist()]\n",
    "cve_issues_nf.info()"
   ]
  },
  {
   "cell_type": "code",
   "execution_count": 176,
   "metadata": {},
   "outputs": [
    {
     "data": {
      "text/html": [
       "<div>\n",
       "<style scoped>\n",
       "    .dataframe tbody tr th:only-of-type {\n",
       "        vertical-align: middle;\n",
       "    }\n",
       "\n",
       "    .dataframe tbody tr th {\n",
       "        vertical-align: top;\n",
       "    }\n",
       "\n",
       "    .dataframe thead th {\n",
       "        text-align: right;\n",
       "    }\n",
       "</style>\n",
       "<table border=\"1\" class=\"dataframe\">\n",
       "  <thead>\n",
       "    <tr style=\"text-align: right;\">\n",
       "      <th></th>\n",
       "      <th>repo_name</th>\n",
       "      <th>event_type</th>\n",
       "      <th>actor_id</th>\n",
       "      <th>actor_name</th>\n",
       "      <th>issue_status</th>\n",
       "      <th>issue_api_url</th>\n",
       "      <th>issue_url</th>\n",
       "      <th>issue_creator_name</th>\n",
       "      <th>issue_creator_api_url</th>\n",
       "      <th>issue_creator_url</th>\n",
       "      <th>comment_count</th>\n",
       "      <th>issue_id</th>\n",
       "      <th>issue_number</th>\n",
       "      <th>issue_created_at</th>\n",
       "      <th>issue_updated_at</th>\n",
       "      <th>issue_closed_at</th>\n",
       "      <th>issue_title</th>\n",
       "      <th>issue_body</th>\n",
       "    </tr>\n",
       "  </thead>\n",
       "  <tbody>\n",
       "    <tr>\n",
       "      <th>0</th>\n",
       "      <td>spring-projects/spring-security</td>\n",
       "      <td>IssuesEvent</td>\n",
       "      <td>362503</td>\n",
       "      <td>rwinch</td>\n",
       "      <td>closed</td>\n",
       "      <td>https://api.github.com/repos/spring-projects/s...</td>\n",
       "      <td>https://github.com/spring-projects/spring-secu...</td>\n",
       "      <td>rwinch</td>\n",
       "      <td>https://api.github.com/users/rwinch</td>\n",
       "      <td>https://github.com/rwinch</td>\n",
       "      <td>0</td>\n",
       "      <td>131819573</td>\n",
       "      <td>3563</td>\n",
       "      <td>2013-06-12T06:49:56Z</td>\n",
       "      <td>2014-03-25T13:35:23Z</td>\n",
       "      <td>2014-03-25T13:35:23Z</td>\n",
       "      <td>SEC-2177: DefaultRedirectStrategy could be les...</td>\n",
       "      <td>Backported https://github.com/spring-projects/...</td>\n",
       "    </tr>\n",
       "    <tr>\n",
       "      <th>1</th>\n",
       "      <td>DozerMapper/dozer</td>\n",
       "      <td>IssuesEvent</td>\n",
       "      <td>1059826</td>\n",
       "      <td>dfj</td>\n",
       "      <td>open</td>\n",
       "      <td>https://api.github.com/repos/DozerMapper/dozer...</td>\n",
       "      <td>https://github.com/DozerMapper/dozer/issues/217</td>\n",
       "      <td>dfj</td>\n",
       "      <td>https://api.github.com/users/dfj</td>\n",
       "      <td>https://github.com/dfj</td>\n",
       "      <td>5</td>\n",
       "      <td>51064459</td>\n",
       "      <td>217</td>\n",
       "      <td>2014-12-05T05:20:15Z</td>\n",
       "      <td>2018-01-11T02:00:57Z</td>\n",
       "      <td>None</td>\n",
       "      <td>Potential remote code execution via dozer's re...</td>\n",
       "      <td>Dozer uses a reflection-based approach to type...</td>\n",
       "    </tr>\n",
       "    <tr>\n",
       "      <th>2</th>\n",
       "      <td>urllib3/urllib3</td>\n",
       "      <td>IssuesEvent</td>\n",
       "      <td>33599956</td>\n",
       "      <td>zockons12</td>\n",
       "      <td>closed</td>\n",
       "      <td>https://api.github.com/repos/urllib3/urllib3/i...</td>\n",
       "      <td>https://github.com/urllib3/urllib3/issues/1316</td>\n",
       "      <td>zockons12</td>\n",
       "      <td>https://api.github.com/users/zockons12</td>\n",
       "      <td>https://github.com/zockons12</td>\n",
       "      <td>17</td>\n",
       "      <td>289108377</td>\n",
       "      <td>1316</td>\n",
       "      <td>2018-01-17T01:02:04Z</td>\n",
       "      <td>2018-12-12T06:01:29Z</td>\n",
       "      <td>2018-03-29T14:38:43Z</td>\n",
       "      <td>Auth header remains during redirects</td>\n",
       "      <td>Requests does it: https://github.com/request/r...</td>\n",
       "    </tr>\n",
       "    <tr>\n",
       "      <th>3</th>\n",
       "      <td>ajenti/ajenti</td>\n",
       "      <td>IssuesEvent</td>\n",
       "      <td>4004716</td>\n",
       "      <td>mmetince</td>\n",
       "      <td>closed</td>\n",
       "      <td>https://api.github.com/repos/ajenti/ajenti/iss...</td>\n",
       "      <td>https://github.com/ajenti/ajenti/issues/602</td>\n",
       "      <td>mmetince</td>\n",
       "      <td>https://api.github.com/users/mmetince</td>\n",
       "      <td>https://github.com/mmetince</td>\n",
       "      <td>3</td>\n",
       "      <td>45386090</td>\n",
       "      <td>602</td>\n",
       "      <td>2014-10-09T16:16:36Z</td>\n",
       "      <td>2014-10-09T17:28:35Z</td>\n",
       "      <td>2014-10-09T17:20:46Z</td>\n",
       "      <td>Stored XSS Vulnerability</td>\n",
       "      <td>Hey\\n\\nI've found Stored XSS vulnerability on ...</td>\n",
       "    </tr>\n",
       "    <tr>\n",
       "      <th>4</th>\n",
       "      <td>elastic/elasticsearch</td>\n",
       "      <td>IssuesEvent</td>\n",
       "      <td>2914051</td>\n",
       "      <td>rtoma</td>\n",
       "      <td>closed</td>\n",
       "      <td>https://api.github.com/repos/elastic/elasticse...</td>\n",
       "      <td>https://github.com/elastic/elasticsearch/issue...</td>\n",
       "      <td>rtoma</td>\n",
       "      <td>https://api.github.com/users/rtoma</td>\n",
       "      <td>https://github.com/rtoma</td>\n",
       "      <td>11</td>\n",
       "      <td>31727017</td>\n",
       "      <td>5853</td>\n",
       "      <td>2014-04-17T13:38:05Z</td>\n",
       "      <td>2014-05-20T13:33:52Z</td>\n",
       "      <td>2014-04-25T21:45:03Z</td>\n",
       "      <td>Change default for script.disable_dynamic</td>\n",
       "      <td>Please make setting script.disable_dynamic=tru...</td>\n",
       "    </tr>\n",
       "  </tbody>\n",
       "</table>\n",
       "</div>"
      ],
      "text/plain": [
       "                         repo_name   event_type  actor_id actor_name  \\\n",
       "0  spring-projects/spring-security  IssuesEvent    362503     rwinch   \n",
       "1                DozerMapper/dozer  IssuesEvent   1059826        dfj   \n",
       "2                  urllib3/urllib3  IssuesEvent  33599956  zockons12   \n",
       "3                    ajenti/ajenti  IssuesEvent   4004716   mmetince   \n",
       "4            elastic/elasticsearch  IssuesEvent   2914051      rtoma   \n",
       "\n",
       "  issue_status                                      issue_api_url  \\\n",
       "0       closed  https://api.github.com/repos/spring-projects/s...   \n",
       "1         open  https://api.github.com/repos/DozerMapper/dozer...   \n",
       "2       closed  https://api.github.com/repos/urllib3/urllib3/i...   \n",
       "3       closed  https://api.github.com/repos/ajenti/ajenti/iss...   \n",
       "4       closed  https://api.github.com/repos/elastic/elasticse...   \n",
       "\n",
       "                                           issue_url issue_creator_name  \\\n",
       "0  https://github.com/spring-projects/spring-secu...             rwinch   \n",
       "1    https://github.com/DozerMapper/dozer/issues/217                dfj   \n",
       "2     https://github.com/urllib3/urllib3/issues/1316          zockons12   \n",
       "3        https://github.com/ajenti/ajenti/issues/602           mmetince   \n",
       "4  https://github.com/elastic/elasticsearch/issue...              rtoma   \n",
       "\n",
       "                    issue_creator_api_url             issue_creator_url  \\\n",
       "0     https://api.github.com/users/rwinch     https://github.com/rwinch   \n",
       "1        https://api.github.com/users/dfj        https://github.com/dfj   \n",
       "2  https://api.github.com/users/zockons12  https://github.com/zockons12   \n",
       "3   https://api.github.com/users/mmetince   https://github.com/mmetince   \n",
       "4      https://api.github.com/users/rtoma      https://github.com/rtoma   \n",
       "\n",
       "   comment_count   issue_id  issue_number      issue_created_at  \\\n",
       "0              0  131819573          3563  2013-06-12T06:49:56Z   \n",
       "1              5   51064459           217  2014-12-05T05:20:15Z   \n",
       "2             17  289108377          1316  2018-01-17T01:02:04Z   \n",
       "3              3   45386090           602  2014-10-09T16:16:36Z   \n",
       "4             11   31727017          5853  2014-04-17T13:38:05Z   \n",
       "\n",
       "       issue_updated_at       issue_closed_at  \\\n",
       "0  2014-03-25T13:35:23Z  2014-03-25T13:35:23Z   \n",
       "1  2018-01-11T02:00:57Z                  None   \n",
       "2  2018-12-12T06:01:29Z  2018-03-29T14:38:43Z   \n",
       "3  2014-10-09T17:28:35Z  2014-10-09T17:20:46Z   \n",
       "4  2014-05-20T13:33:52Z  2014-04-25T21:45:03Z   \n",
       "\n",
       "                                         issue_title  \\\n",
       "0  SEC-2177: DefaultRedirectStrategy could be les...   \n",
       "1  Potential remote code execution via dozer's re...   \n",
       "2               Auth header remains during redirects   \n",
       "3                          Stored XSS Vulnerability    \n",
       "4          Change default for script.disable_dynamic   \n",
       "\n",
       "                                          issue_body  \n",
       "0  Backported https://github.com/spring-projects/...  \n",
       "1  Dozer uses a reflection-based approach to type...  \n",
       "2  Requests does it: https://github.com/request/r...  \n",
       "3  Hey\\n\\nI've found Stored XSS vulnerability on ...  \n",
       "4  Please make setting script.disable_dynamic=tru...  "
      ]
     },
     "execution_count": 176,
     "metadata": {},
     "output_type": "execute_result"
    }
   ],
   "source": [
    "cve_issues_nf.head()"
   ]
  },
  {
   "cell_type": "markdown",
   "metadata": {},
   "source": [
    "# Labeling CVE and non-CVE GitHub issues "
   ]
  },
  {
   "cell_type": "code",
   "execution_count": 254,
   "metadata": {},
   "outputs": [
    {
     "data": {
      "text/plain": [
       "(241886, 18)"
      ]
     },
     "execution_count": 254,
     "metadata": {},
     "output_type": "execute_result"
    }
   ],
   "source": [
    "gh_bq_issues.shape"
   ]
  },
  {
   "cell_type": "code",
   "execution_count": 184,
   "metadata": {},
   "outputs": [
    {
     "data": {
      "text/plain": [
       "((249, 18), (241685, 19))"
      ]
     },
     "execution_count": 184,
     "metadata": {},
     "output_type": "execute_result"
    }
   ],
   "source": [
    "gh_bq_issues_positive = pd.concat([cve_issues, cve_issues_nf], axis=0)\n",
    "gh_bq_issues_negative = gh_bq_issues.drop(cve_issues.index.tolist())\n",
    "gh_bq_issues_positive.shape, gh_bq_issues_negative.shape"
   ]
  },
  {
   "cell_type": "code",
   "execution_count": 185,
   "metadata": {},
   "outputs": [],
   "source": [
    "gh_bq_issues_positive['class_label'] = 2\n",
    "gh_bq_issues_negative['class_label'] = 0"
   ]
  },
  {
   "cell_type": "code",
   "execution_count": 187,
   "metadata": {},
   "outputs": [
    {
     "data": {
      "text/plain": [
       "(241934, 19)"
      ]
     },
     "execution_count": 187,
     "metadata": {},
     "output_type": "execute_result"
    }
   ],
   "source": [
    "gh_bq_issues_processed = pd.concat([gh_bq_issues_negative, gh_bq_issues_positive], axis=0)\n",
    "gh_bq_issues_processed.shape"
   ]
  },
  {
   "cell_type": "code",
   "execution_count": 189,
   "metadata": {},
   "outputs": [
    {
     "data": {
      "text/html": [
       "<div>\n",
       "<style scoped>\n",
       "    .dataframe tbody tr th:only-of-type {\n",
       "        vertical-align: middle;\n",
       "    }\n",
       "\n",
       "    .dataframe tbody tr th {\n",
       "        vertical-align: top;\n",
       "    }\n",
       "\n",
       "    .dataframe thead th {\n",
       "        text-align: right;\n",
       "    }\n",
       "</style>\n",
       "<table border=\"1\" class=\"dataframe\">\n",
       "  <thead>\n",
       "    <tr style=\"text-align: right;\">\n",
       "      <th></th>\n",
       "      <th>repo_name</th>\n",
       "      <th>event_type</th>\n",
       "      <th>actor_id</th>\n",
       "      <th>actor_name</th>\n",
       "      <th>issue_status</th>\n",
       "      <th>issue_api_url</th>\n",
       "      <th>issue_url</th>\n",
       "      <th>issue_creator_name</th>\n",
       "      <th>issue_creator_api_url</th>\n",
       "      <th>issue_creator_url</th>\n",
       "      <th>comment_count</th>\n",
       "      <th>issue_id</th>\n",
       "      <th>issue_number</th>\n",
       "      <th>issue_created_at</th>\n",
       "      <th>issue_updated_at</th>\n",
       "      <th>issue_closed_at</th>\n",
       "      <th>issue_title</th>\n",
       "      <th>issue_body</th>\n",
       "      <th>class_label</th>\n",
       "    </tr>\n",
       "  </thead>\n",
       "  <tbody>\n",
       "    <tr>\n",
       "      <th>43</th>\n",
       "      <td>primefaces/primefaces</td>\n",
       "      <td>IssuesEvent</td>\n",
       "      <td>13161711</td>\n",
       "      <td>cnsgithub</td>\n",
       "      <td>closed</td>\n",
       "      <td>https://api.github.com/repos/primefaces/primef...</td>\n",
       "      <td>https://github.com/primefaces/primefaces/issue...</td>\n",
       "      <td>cnsgithub</td>\n",
       "      <td>https://api.github.com/users/cnsgithub</td>\n",
       "      <td>https://github.com/cnsgithub</td>\n",
       "      <td>3.0</td>\n",
       "      <td>291533030.0</td>\n",
       "      <td>3213.0</td>\n",
       "      <td>2018-01-25T11:11:31Z</td>\n",
       "      <td>2018-03-15T08:35:07Z</td>\n",
       "      <td>2018-01-26T12:38:10Z</td>\n",
       "      <td>XSS vulnerability in ButtonRenderer</td>\n",
       "      <td>## 1) Environment\\r\\n- PrimeFaces version: pri...</td>\n",
       "      <td>2</td>\n",
       "    </tr>\n",
       "    <tr>\n",
       "      <th>44</th>\n",
       "      <td>IdentityPython/pysaml2</td>\n",
       "      <td>IssuesEvent</td>\n",
       "      <td>15326</td>\n",
       "      <td>mrbrutti</td>\n",
       "      <td>closed</td>\n",
       "      <td>https://api.github.com/repos/IdentityPython/py...</td>\n",
       "      <td>https://github.com/IdentityPython/pysaml2/issu...</td>\n",
       "      <td>mrbrutti</td>\n",
       "      <td>https://api.github.com/users/mrbrutti</td>\n",
       "      <td>https://github.com/mrbrutti</td>\n",
       "      <td>21.0</td>\n",
       "      <td>181454016.0</td>\n",
       "      <td>366.0</td>\n",
       "      <td>2016-10-06T15:50:31Z</td>\n",
       "      <td>2017-11-15T11:17:13Z</td>\n",
       "      <td>2017-11-15T11:17:13Z</td>\n",
       "      <td>PySAML vulnerable to XXE</td>\n",
       "      <td>Roland (@rohe), \\n#### Description\\n\\nAn XML E...</td>\n",
       "      <td>2</td>\n",
       "    </tr>\n",
       "    <tr>\n",
       "      <th>45</th>\n",
       "      <td>saltstack/salt</td>\n",
       "      <td>IssuesEvent</td>\n",
       "      <td>507599</td>\n",
       "      <td>thatch45</td>\n",
       "      <td>closed</td>\n",
       "      <td>https://api.github.com/repos/saltstack/salt/is...</td>\n",
       "      <td>https://github.com/saltstack/salt/issues/19</td>\n",
       "      <td>thatch45</td>\n",
       "      <td>https://api.github.com/users/thatch45</td>\n",
       "      <td>https://github.com/thatch45</td>\n",
       "      <td>2.0</td>\n",
       "      <td>674338.0</td>\n",
       "      <td>19.0</td>\n",
       "      <td>2011-03-15T04:36:32Z</td>\n",
       "      <td>2011-03-15T04:58:35Z</td>\n",
       "      <td>2011-03-15T04:58:35Z</td>\n",
       "      <td>Sending a faulty command kills all the minions!</td>\n",
       "      <td>Catch faulty calls\\n</td>\n",
       "      <td>2</td>\n",
       "    </tr>\n",
       "    <tr>\n",
       "      <th>46</th>\n",
       "      <td>jmurty/java-xmlbuilder</td>\n",
       "      <td>IssuesEvent</td>\n",
       "      <td>2177830</td>\n",
       "      <td>xiaoyongwu</td>\n",
       "      <td>closed</td>\n",
       "      <td>https://api.github.com/repos/jmurty/java-xmlbu...</td>\n",
       "      <td>https://github.com/jmurty/java-xmlbuilder/issu...</td>\n",
       "      <td>xiaoyongwu</td>\n",
       "      <td>https://api.github.com/users/xiaoyongwu</td>\n",
       "      <td>https://github.com/xiaoyongwu</td>\n",
       "      <td>1.0</td>\n",
       "      <td>38423199.0</td>\n",
       "      <td>6.0</td>\n",
       "      <td>2014-07-22T17:27:44Z</td>\n",
       "      <td>2014-07-22T20:55:04Z</td>\n",
       "      <td>2014-07-22T20:55:04Z</td>\n",
       "      <td>XMLBuilder2 is vulnerable to XML External Enti...</td>\n",
       "      <td>I noticed that by default, the parser in XMLBu...</td>\n",
       "      <td>2</td>\n",
       "    </tr>\n",
       "    <tr>\n",
       "      <th>47</th>\n",
       "      <td>pypa/pip</td>\n",
       "      <td>IssuesEvent</td>\n",
       "      <td>414336</td>\n",
       "      <td>guettli</td>\n",
       "      <td>closed</td>\n",
       "      <td>https://api.github.com/repos/pypa/pip/issues/725</td>\n",
       "      <td>https://github.com/pypa/pip/issues/725</td>\n",
       "      <td>guettli</td>\n",
       "      <td>https://api.github.com/users/guettli</td>\n",
       "      <td>https://github.com/guettli</td>\n",
       "      <td>5.0</td>\n",
       "      <td>8381771.0</td>\n",
       "      <td>725.0</td>\n",
       "      <td>2012-11-15T09:30:29Z</td>\n",
       "      <td>2013-01-26T07:46:41Z</td>\n",
       "      <td>2013-01-26T06:28:27Z</td>\n",
       "      <td>/tmp/pip-build not secure</td>\n",
       "      <td>Well known temporary file names like /tmp/pip-...</td>\n",
       "      <td>2</td>\n",
       "    </tr>\n",
       "  </tbody>\n",
       "</table>\n",
       "</div>"
      ],
      "text/plain": [
       "                 repo_name   event_type  actor_id  actor_name issue_status  \\\n",
       "43   primefaces/primefaces  IssuesEvent  13161711   cnsgithub       closed   \n",
       "44  IdentityPython/pysaml2  IssuesEvent     15326    mrbrutti       closed   \n",
       "45          saltstack/salt  IssuesEvent    507599    thatch45       closed   \n",
       "46  jmurty/java-xmlbuilder  IssuesEvent   2177830  xiaoyongwu       closed   \n",
       "47                pypa/pip  IssuesEvent    414336     guettli       closed   \n",
       "\n",
       "                                        issue_api_url  \\\n",
       "43  https://api.github.com/repos/primefaces/primef...   \n",
       "44  https://api.github.com/repos/IdentityPython/py...   \n",
       "45  https://api.github.com/repos/saltstack/salt/is...   \n",
       "46  https://api.github.com/repos/jmurty/java-xmlbu...   \n",
       "47   https://api.github.com/repos/pypa/pip/issues/725   \n",
       "\n",
       "                                            issue_url issue_creator_name  \\\n",
       "43  https://github.com/primefaces/primefaces/issue...          cnsgithub   \n",
       "44  https://github.com/IdentityPython/pysaml2/issu...           mrbrutti   \n",
       "45        https://github.com/saltstack/salt/issues/19           thatch45   \n",
       "46  https://github.com/jmurty/java-xmlbuilder/issu...         xiaoyongwu   \n",
       "47             https://github.com/pypa/pip/issues/725            guettli   \n",
       "\n",
       "                      issue_creator_api_url              issue_creator_url  \\\n",
       "43   https://api.github.com/users/cnsgithub   https://github.com/cnsgithub   \n",
       "44    https://api.github.com/users/mrbrutti    https://github.com/mrbrutti   \n",
       "45    https://api.github.com/users/thatch45    https://github.com/thatch45   \n",
       "46  https://api.github.com/users/xiaoyongwu  https://github.com/xiaoyongwu   \n",
       "47     https://api.github.com/users/guettli     https://github.com/guettli   \n",
       "\n",
       "    comment_count     issue_id  issue_number      issue_created_at  \\\n",
       "43            3.0  291533030.0        3213.0  2018-01-25T11:11:31Z   \n",
       "44           21.0  181454016.0         366.0  2016-10-06T15:50:31Z   \n",
       "45            2.0     674338.0          19.0  2011-03-15T04:36:32Z   \n",
       "46            1.0   38423199.0           6.0  2014-07-22T17:27:44Z   \n",
       "47            5.0    8381771.0         725.0  2012-11-15T09:30:29Z   \n",
       "\n",
       "        issue_updated_at       issue_closed_at  \\\n",
       "43  2018-03-15T08:35:07Z  2018-01-26T12:38:10Z   \n",
       "44  2017-11-15T11:17:13Z  2017-11-15T11:17:13Z   \n",
       "45  2011-03-15T04:58:35Z  2011-03-15T04:58:35Z   \n",
       "46  2014-07-22T20:55:04Z  2014-07-22T20:55:04Z   \n",
       "47  2013-01-26T07:46:41Z  2013-01-26T06:28:27Z   \n",
       "\n",
       "                                          issue_title  \\\n",
       "43                XSS vulnerability in ButtonRenderer   \n",
       "44                           PySAML vulnerable to XXE   \n",
       "45    Sending a faulty command kills all the minions!   \n",
       "46  XMLBuilder2 is vulnerable to XML External Enti...   \n",
       "47                          /tmp/pip-build not secure   \n",
       "\n",
       "                                           issue_body  class_label  \n",
       "43  ## 1) Environment\\r\\n- PrimeFaces version: pri...            2  \n",
       "44  Roland (@rohe), \\n#### Description\\n\\nAn XML E...            2  \n",
       "45                               Catch faulty calls\\n            2  \n",
       "46  I noticed that by default, the parser in XMLBu...            2  \n",
       "47  Well known temporary file names like /tmp/pip-...            2  "
      ]
     },
     "execution_count": 189,
     "metadata": {},
     "output_type": "execute_result"
    }
   ],
   "source": [
    "gh_bq_issues_processed.tail()"
   ]
  },
  {
   "cell_type": "code",
   "execution_count": 190,
   "metadata": {},
   "outputs": [],
   "source": [
    "gh_bq_issues_processed.to_csv('GH_issues_clean_labeled.csv', index=False)"
   ]
  },
  {
   "cell_type": "markdown",
   "metadata": {},
   "source": [
    "# Processing Pull Requests"
   ]
  },
  {
   "cell_type": "code",
   "execution_count": 191,
   "metadata": {},
   "outputs": [
    {
     "name": "stderr",
     "output_type": "stream",
     "text": [
      "/home/dsarkar/anaconda3/lib/python3.6/site-packages/IPython/core/interactiveshell.py:2785: DtypeWarning: Columns (18) have mixed types. Specify dtype option on import or set low_memory=False.\n",
      "  interactivity=interactivity, compiler=compiler, result=result)\n"
     ]
    },
    {
     "name": "stdout",
     "output_type": "stream",
     "text": [
      "<class 'pandas.core.frame.DataFrame'>\n",
      "RangeIndex: 746701 entries, 0 to 746700\n",
      "Data columns (total 27 columns):\n",
      "repo_name                   746701 non-null object\n",
      "event_type                  746701 non-null object\n",
      "actor_id                    746701 non-null int64\n",
      "actor_name                  746701 non-null object\n",
      "pr_status                   746701 non-null object\n",
      "pr_id                       746701 non-null int64\n",
      "pr_number                   746701 non-null int64\n",
      "pr_api_url                  738849 non-null object\n",
      "pr_url                      738849 non-null object\n",
      "pr_diff_url                 738849 non-null object\n",
      "pr_patch_url                738849 non-null object\n",
      "pr_creator_name             738847 non-null object\n",
      "pr_creator_api_url          738847 non-null object\n",
      "pr_creator_url              679891 non-null object\n",
      "pr_created_at               738849 non-null object\n",
      "pr_updated_at               738849 non-null object\n",
      "pr_closed_at                339114 non-null object\n",
      "pr_merged_at                210998 non-null object\n",
      "pr_merged_status            738849 non-null object\n",
      "pr_comments_count           738849 non-null float64\n",
      "pr_review_comments_count    738120 non-null float64\n",
      "pr_commits_count            746701 non-null int64\n",
      "pr_additions_count          746701 non-null int64\n",
      "pr_deletions_count          746701 non-null int64\n",
      "pr_changed_files_count      738849 non-null float64\n",
      "pr_title                    746696 non-null object\n",
      "pr_body                     598011 non-null object\n",
      "dtypes: float64(3), int64(6), object(18)\n",
      "memory usage: 153.8+ MB\n"
     ]
    }
   ],
   "source": [
    "gh_bq_prs = pd.read_csv('GH_pull_requests.csv')\n",
    "gh_bq_prs.info()"
   ]
  },
  {
   "cell_type": "markdown",
   "metadata": {},
   "source": [
    "# Adding in missing GitHub Pull Request Links"
   ]
  },
  {
   "cell_type": "code",
   "execution_count": 201,
   "metadata": {
    "scrolled": false
   },
   "outputs": [],
   "source": [
    "gh_bq_prs = gh_bq_prs[~pd.isnull(gh_bq_prs.pr_title)]"
   ]
  },
  {
   "cell_type": "code",
   "execution_count": 225,
   "metadata": {},
   "outputs": [],
   "source": [
    "def fill_missing_links(record):\n",
    "    repo_name = record['repo_name']\n",
    "    pr_number = str(record['pr_number'])\n",
    "    if pd.isnull(record['pr_api_url']):\n",
    "        record['pr_api_url'] = 'https://api.github.com/repos/'+repo_name+'/pulls/'+pr_number\n",
    "    if pd.isnull(record['pr_url']):\n",
    "        record['pr_url'] = 'https://github.com/'+repo_name+'/pull/'+pr_number \n",
    "    if pd.isnull(record['pr_diff_url']):\n",
    "        record['pr_diff_url'] = 'https://github.com/'+repo_name+'/pull/'+pr_number+'.diff' \n",
    "    if pd.isnull(record['pr_patch_url']):\n",
    "        record['pr_patch_url'] = 'https://github.com/'+repo_name+'/pull/'+pr_number+'.patch'\n",
    "    return record"
   ]
  },
  {
   "cell_type": "code",
   "execution_count": 226,
   "metadata": {},
   "outputs": [
    {
     "name": "stdout",
     "output_type": "stream",
     "text": [
      "<class 'pandas.core.frame.DataFrame'>\n",
      "Int64Index: 746696 entries, 0 to 746700\n",
      "Data columns (total 27 columns):\n",
      "repo_name                   746696 non-null object\n",
      "event_type                  746696 non-null object\n",
      "actor_id                    746696 non-null int64\n",
      "actor_name                  746696 non-null object\n",
      "pr_status                   746696 non-null object\n",
      "pr_id                       746696 non-null int64\n",
      "pr_number                   746696 non-null int64\n",
      "pr_api_url                  746696 non-null object\n",
      "pr_url                      746696 non-null object\n",
      "pr_diff_url                 746696 non-null object\n",
      "pr_patch_url                746696 non-null object\n",
      "pr_creator_name             738847 non-null object\n",
      "pr_creator_api_url          738847 non-null object\n",
      "pr_creator_url              679891 non-null object\n",
      "pr_created_at               738849 non-null object\n",
      "pr_updated_at               738849 non-null object\n",
      "pr_closed_at                339114 non-null object\n",
      "pr_merged_at                210998 non-null object\n",
      "pr_merged_status            738849 non-null object\n",
      "pr_comments_count           738849 non-null float64\n",
      "pr_review_comments_count    738120 non-null float64\n",
      "pr_commits_count            746696 non-null int64\n",
      "pr_additions_count          746696 non-null int64\n",
      "pr_deletions_count          746696 non-null int64\n",
      "pr_changed_files_count      738849 non-null float64\n",
      "pr_title                    746696 non-null object\n",
      "pr_body                     598011 non-null object\n",
      "dtypes: float64(3), int64(6), object(18)\n",
      "memory usage: 159.5+ MB\n"
     ]
    }
   ],
   "source": [
    "gh_bq_prs = gh_bq_prs.apply(lambda row: fill_missing_links(row), axis=1)\n",
    "gh_bq_prs.info()"
   ]
  },
  {
   "cell_type": "markdown",
   "metadata": {},
   "source": [
    "# Checking and Removing Pull Requests with wrong timestamp"
   ]
  },
  {
   "cell_type": "code",
   "execution_count": 228,
   "metadata": {},
   "outputs": [
    {
     "data": {
      "text/plain": [
       "[]"
      ]
     },
     "execution_count": 228,
     "metadata": {},
     "output_type": "execute_result"
    }
   ],
   "source": [
    "[item for item in gh_bq_prs.pr_created_at.tolist() if not pd.isnull(item) and item.startswith('3')]"
   ]
  },
  {
   "cell_type": "code",
   "execution_count": 229,
   "metadata": {},
   "outputs": [
    {
     "data": {
      "text/plain": [
       "[]"
      ]
     },
     "execution_count": 229,
     "metadata": {},
     "output_type": "execute_result"
    }
   ],
   "source": [
    "[item for item in gh_bq_prs.pr_updated_at.tolist() if not pd.isnull(item) and item.startswith('3')]"
   ]
  },
  {
   "cell_type": "code",
   "execution_count": 230,
   "metadata": {},
   "outputs": [
    {
     "data": {
      "text/plain": [
       "[]"
      ]
     },
     "execution_count": 230,
     "metadata": {},
     "output_type": "execute_result"
    }
   ],
   "source": [
    "[item for item in gh_bq_prs.pr_closed_at.tolist() if not pd.isnull(item) and item.startswith('3')]"
   ]
  },
  {
   "cell_type": "code",
   "execution_count": 231,
   "metadata": {},
   "outputs": [
    {
     "data": {
      "text/plain": [
       "[]"
      ]
     },
     "execution_count": 231,
     "metadata": {},
     "output_type": "execute_result"
    }
   ],
   "source": [
    "[item for item in gh_bq_prs.pr_merged_at.tolist() if not pd.isnull(item) and item.startswith('3')]"
   ]
  },
  {
   "cell_type": "markdown",
   "metadata": {},
   "source": [
    "# Removing Duplicate Pull Requests \n",
    "### Keeping each PR record based on last row where timestamp is missing"
   ]
  },
  {
   "cell_type": "code",
   "execution_count": 240,
   "metadata": {},
   "outputs": [
    {
     "data": {
      "text/plain": [
       "((7847, 27), (738849, 27))"
      ]
     },
     "execution_count": 240,
     "metadata": {},
     "output_type": "execute_result"
    }
   ],
   "source": [
    "gh_bq_prs_missing_info = gh_bq_prs[pd.isnull(gh_bq_prs.pr_updated_at)]\n",
    "gh_bq_prs_full_info = gh_bq_prs[~pd.isnull(gh_bq_prs.pr_updated_at)]\n",
    "gh_bq_prs_missing_info.shape, gh_bq_prs_full_info.shape"
   ]
  },
  {
   "cell_type": "code",
   "execution_count": 241,
   "metadata": {},
   "outputs": [
    {
     "data": {
      "text/plain": [
       "(4307, 27)"
      ]
     },
     "execution_count": 241,
     "metadata": {},
     "output_type": "execute_result"
    }
   ],
   "source": [
    "gh_bq_prs_missing_info = gh_bq_prs_missing_info.drop_duplicates(subset=['pr_url'], keep=\"last\")\n",
    "gh_bq_prs_missing_info.shape"
   ]
  },
  {
   "cell_type": "markdown",
   "metadata": {},
   "source": [
    "# Removing Duplicate Pull Requests \n",
    "### Keeping each PR record based on last updated timestamp"
   ]
  },
  {
   "cell_type": "code",
   "execution_count": 244,
   "metadata": {},
   "outputs": [
    {
     "name": "stderr",
     "output_type": "stream",
     "text": [
      "/home/dsarkar/anaconda3/lib/python3.6/site-packages/pandas/core/generic.py:4401: SettingWithCopyWarning: \n",
      "A value is trying to be set on a copy of a slice from a DataFrame.\n",
      "Try using .loc[row_indexer,col_indexer] = value instead\n",
      "\n",
      "See the caveats in the documentation: http://pandas.pydata.org/pandas-docs/stable/indexing.html#indexing-view-versus-copy\n",
      "  self[name] = value\n"
     ]
    },
    {
     "data": {
      "text/plain": [
       "(738849, 27)"
      ]
     },
     "execution_count": 244,
     "metadata": {},
     "output_type": "execute_result"
    }
   ],
   "source": [
    "gh_bq_prs_full_info.pr_created_at = pd.to_datetime(gh_bq_prs_full_info.pr_created_at)\n",
    "gh_bq_prs_full_info.pr_updated_at = pd.to_datetime(gh_bq_prs_full_info.pr_updated_at)\n",
    "gh_bq_prs_full_info.pr_closed_at = pd.to_datetime(gh_bq_prs_full_info.pr_closed_at)\n",
    "gh_bq_prs_full_info.pr_merged_at = pd.to_datetime(gh_bq_prs_full_info.pr_merged_at)\n",
    "gh_bq_prs_full_info.shape"
   ]
  },
  {
   "cell_type": "code",
   "execution_count": 245,
   "metadata": {
    "scrolled": false
   },
   "outputs": [
    {
     "name": "stdout",
     "output_type": "stream",
     "text": [
      "<class 'pandas.core.frame.DataFrame'>\n",
      "Int64Index: 738849 entries, 6 to 746700\n",
      "Data columns (total 27 columns):\n",
      "repo_name                   738849 non-null object\n",
      "event_type                  738849 non-null object\n",
      "actor_id                    738849 non-null int64\n",
      "actor_name                  738849 non-null object\n",
      "pr_status                   738849 non-null object\n",
      "pr_id                       738849 non-null int64\n",
      "pr_number                   738849 non-null int64\n",
      "pr_api_url                  738849 non-null object\n",
      "pr_url                      738849 non-null object\n",
      "pr_diff_url                 738849 non-null object\n",
      "pr_patch_url                738849 non-null object\n",
      "pr_creator_name             738847 non-null object\n",
      "pr_creator_api_url          738847 non-null object\n",
      "pr_creator_url              679891 non-null object\n",
      "pr_created_at               738849 non-null datetime64[ns]\n",
      "pr_updated_at               738849 non-null datetime64[ns]\n",
      "pr_closed_at                339114 non-null datetime64[ns]\n",
      "pr_merged_at                210998 non-null datetime64[ns]\n",
      "pr_merged_status            738849 non-null object\n",
      "pr_comments_count           738849 non-null float64\n",
      "pr_review_comments_count    738120 non-null float64\n",
      "pr_commits_count            738849 non-null int64\n",
      "pr_additions_count          738849 non-null int64\n",
      "pr_deletions_count          738849 non-null int64\n",
      "pr_changed_files_count      738849 non-null float64\n",
      "pr_title                    738849 non-null object\n",
      "pr_body                     598011 non-null object\n",
      "dtypes: datetime64[ns](4), float64(3), int64(6), object(14)\n",
      "memory usage: 157.8+ MB\n"
     ]
    }
   ],
   "source": [
    "gh_bq_prs_full_info.info()"
   ]
  },
  {
   "cell_type": "code",
   "execution_count": 246,
   "metadata": {},
   "outputs": [
    {
     "data": {
      "text/plain": [
       "(355448, 27)"
      ]
     },
     "execution_count": 246,
     "metadata": {},
     "output_type": "execute_result"
    }
   ],
   "source": [
    "gh_bq_prs_full_info = gh_bq_prs_full_info.loc[gh_bq_prs_full_info.groupby('pr_url').pr_updated_at.idxmax(skipna=False)]\n",
    "gh_bq_prs_full_info.shape"
   ]
  },
  {
   "cell_type": "code",
   "execution_count": 248,
   "metadata": {},
   "outputs": [
    {
     "data": {
      "text/plain": [
       "(359755, 27)"
      ]
     },
     "execution_count": 248,
     "metadata": {},
     "output_type": "execute_result"
    }
   ],
   "source": [
    "gh_bq_prs = pd.concat([gh_bq_prs_full_info, gh_bq_prs_missing_info], axis=0)\n",
    "gh_bq_prs.shape"
   ]
  },
  {
   "cell_type": "markdown",
   "metadata": {},
   "source": [
    "# Reading in Positive CVE related GitHub Pull Request Links"
   ]
  },
  {
   "cell_type": "code",
   "execution_count": 249,
   "metadata": {},
   "outputs": [
    {
     "name": "stdout",
     "output_type": "stream",
     "text": [
      "<class 'pandas.core.frame.DataFrame'>\n",
      "RangeIndex: 329 entries, 0 to 328\n",
      "Data columns (total 1 columns):\n",
      "pull_request    329 non-null object\n",
      "dtypes: object(1)\n",
      "memory usage: 2.6+ KB\n"
     ]
    }
   ],
   "source": [
    "gh_pos_pr_links = pd.read_csv('gh_sec_pr_links.csv')\n",
    "gh_pos_pr_links.info()"
   ]
  },
  {
   "cell_type": "code",
   "execution_count": 250,
   "metadata": {},
   "outputs": [
    {
     "data": {
      "text/plain": [
       "329"
      ]
     },
     "execution_count": 250,
     "metadata": {},
     "output_type": "execute_result"
    }
   ],
   "source": [
    "cve_pr_links = gh_pos_pr_links.pull_request.tolist()\n",
    "len(cve_pr_links)"
   ]
  },
  {
   "cell_type": "markdown",
   "metadata": {},
   "source": [
    "# Extracting CVE Pull Requests from the larger PRs dataset"
   ]
  },
  {
   "cell_type": "code",
   "execution_count": 251,
   "metadata": {},
   "outputs": [
    {
     "data": {
      "text/plain": [
       "(280, 27)"
      ]
     },
     "execution_count": 251,
     "metadata": {},
     "output_type": "execute_result"
    }
   ],
   "source": [
    "cve_prs = gh_bq_prs[gh_bq_prs.pr_url.isin(cve_pr_links)]\n",
    "cve_prs.shape"
   ]
  },
  {
   "cell_type": "code",
   "execution_count": 252,
   "metadata": {},
   "outputs": [
    {
     "data": {
      "text/html": [
       "<div>\n",
       "<style scoped>\n",
       "    .dataframe tbody tr th:only-of-type {\n",
       "        vertical-align: middle;\n",
       "    }\n",
       "\n",
       "    .dataframe tbody tr th {\n",
       "        vertical-align: top;\n",
       "    }\n",
       "\n",
       "    .dataframe thead th {\n",
       "        text-align: right;\n",
       "    }\n",
       "</style>\n",
       "<table border=\"1\" class=\"dataframe\">\n",
       "  <thead>\n",
       "    <tr style=\"text-align: right;\">\n",
       "      <th></th>\n",
       "      <th>repo_name</th>\n",
       "      <th>event_type</th>\n",
       "      <th>actor_id</th>\n",
       "      <th>actor_name</th>\n",
       "      <th>pr_status</th>\n",
       "      <th>pr_id</th>\n",
       "      <th>pr_number</th>\n",
       "      <th>pr_api_url</th>\n",
       "      <th>pr_url</th>\n",
       "      <th>pr_diff_url</th>\n",
       "      <th>...</th>\n",
       "      <th>pr_merged_at</th>\n",
       "      <th>pr_merged_status</th>\n",
       "      <th>pr_comments_count</th>\n",
       "      <th>pr_review_comments_count</th>\n",
       "      <th>pr_commits_count</th>\n",
       "      <th>pr_additions_count</th>\n",
       "      <th>pr_deletions_count</th>\n",
       "      <th>pr_changed_files_count</th>\n",
       "      <th>pr_title</th>\n",
       "      <th>pr_body</th>\n",
       "    </tr>\n",
       "  </thead>\n",
       "  <tbody>\n",
       "    <tr>\n",
       "      <th>343338</th>\n",
       "      <td>3breadt/dd-plist</td>\n",
       "      <td>PullRequestEvent</td>\n",
       "      <td>1140937</td>\n",
       "      <td>3breadt</td>\n",
       "      <td>closed</td>\n",
       "      <td>88005493</td>\n",
       "      <td>26</td>\n",
       "      <td>https://api.github.com/repos/3breadt/dd-plist/...</td>\n",
       "      <td>https://github.com/3breadt/dd-plist/pull/26</td>\n",
       "      <td>https://github.com/3breadt/dd-plist/pull/26.diff</td>\n",
       "      <td>...</td>\n",
       "      <td>2016-10-05 18:08:59</td>\n",
       "      <td>True</td>\n",
       "      <td>3.0</td>\n",
       "      <td>0.0</td>\n",
       "      <td>2</td>\n",
       "      <td>61</td>\n",
       "      <td>48</td>\n",
       "      <td>2.0</td>\n",
       "      <td>Please consider a few minor changes</td>\n",
       "      <td>1) Take steps to guard against XXE attacks (no...</td>\n",
       "    </tr>\n",
       "    <tr>\n",
       "      <th>592948</th>\n",
       "      <td>Bedework/bw-webdav</td>\n",
       "      <td>PullRequestEvent</td>\n",
       "      <td>2991622</td>\n",
       "      <td>douglm</td>\n",
       "      <td>closed</td>\n",
       "      <td>232818232</td>\n",
       "      <td>1</td>\n",
       "      <td>https://api.github.com/repos/Bedework/bw-webda...</td>\n",
       "      <td>https://github.com/Bedework/bw-webdav/pull/1</td>\n",
       "      <td>https://github.com/Bedework/bw-webdav/pull/1.diff</td>\n",
       "      <td>...</td>\n",
       "      <td>2018-11-28 15:31:02</td>\n",
       "      <td>True</td>\n",
       "      <td>0.0</td>\n",
       "      <td>2.0</td>\n",
       "      <td>7</td>\n",
       "      <td>149</td>\n",
       "      <td>59</td>\n",
       "      <td>8.0</td>\n",
       "      <td>secure xml</td>\n",
       "      <td>I found out that this library is open to some ...</td>\n",
       "    </tr>\n",
       "    <tr>\n",
       "      <th>527042</th>\n",
       "      <td>CVEProject/cvelist</td>\n",
       "      <td>PullRequestEvent</td>\n",
       "      <td>32679304</td>\n",
       "      <td>cve-team</td>\n",
       "      <td>closed</td>\n",
       "      <td>153153827</td>\n",
       "      <td>78</td>\n",
       "      <td>https://api.github.com/repos/CVEProject/cvelis...</td>\n",
       "      <td>https://github.com/CVEProject/cvelist/pull/78</td>\n",
       "      <td>https://github.com/CVEProject/cvelist/pull/78....</td>\n",
       "      <td>...</td>\n",
       "      <td>2017-11-17 20:19:46</td>\n",
       "      <td>True</td>\n",
       "      <td>2.0</td>\n",
       "      <td>1.0</td>\n",
       "      <td>1</td>\n",
       "      <td>62</td>\n",
       "      <td>0</td>\n",
       "      <td>1.0</td>\n",
       "      <td>Added CVE-2017-1000190</td>\n",
       "      <td>NaN</td>\n",
       "    </tr>\n",
       "    <tr>\n",
       "      <th>501691</th>\n",
       "      <td>FasterXML/jackson-core</td>\n",
       "      <td>PullRequestEvent</td>\n",
       "      <td>55065</td>\n",
       "      <td>cowtowncoder</td>\n",
       "      <td>closed</td>\n",
       "      <td>88346565</td>\n",
       "      <td>322</td>\n",
       "      <td>https://api.github.com/repos/FasterXML/jackson...</td>\n",
       "      <td>https://github.com/FasterXML/jackson-core/pull...</td>\n",
       "      <td>https://github.com/FasterXML/jackson-core/pull...</td>\n",
       "      <td>...</td>\n",
       "      <td>2017-01-12 03:35:59</td>\n",
       "      <td>True</td>\n",
       "      <td>13.0</td>\n",
       "      <td>0.0</td>\n",
       "      <td>2</td>\n",
       "      <td>98</td>\n",
       "      <td>2</td>\n",
       "      <td>3.0</td>\n",
       "      <td>Trim tokens in error messages to 256 byte to p...</td>\n",
       "      <td>See https://issues.jboss.org/browse/JBEAP-6316...</td>\n",
       "    </tr>\n",
       "    <tr>\n",
       "      <th>624805</th>\n",
       "      <td>FasterXML/jackson-modules-java8</td>\n",
       "      <td>PullRequestEvent</td>\n",
       "      <td>55065</td>\n",
       "      <td>cowtowncoder</td>\n",
       "      <td>closed</td>\n",
       "      <td>224078993</td>\n",
       "      <td>87</td>\n",
       "      <td>https://api.github.com/repos/FasterXML/jackson...</td>\n",
       "      <td>https://github.com/FasterXML/jackson-modules-j...</td>\n",
       "      <td>https://github.com/FasterXML/jackson-modules-j...</td>\n",
       "      <td>...</td>\n",
       "      <td>2018-10-24 02:41:33</td>\n",
       "      <td>True</td>\n",
       "      <td>1.0</td>\n",
       "      <td>0.0</td>\n",
       "      <td>3</td>\n",
       "      <td>367</td>\n",
       "      <td>50</td>\n",
       "      <td>6.0</td>\n",
       "      <td>Prevent unbounded latency converting decimals ...</td>\n",
       "      <td>This change prevents latency explosions when w...</td>\n",
       "    </tr>\n",
       "  </tbody>\n",
       "</table>\n",
       "<p>5 rows × 27 columns</p>\n",
       "</div>"
      ],
      "text/plain": [
       "                              repo_name        event_type  actor_id  \\\n",
       "343338                 3breadt/dd-plist  PullRequestEvent   1140937   \n",
       "592948               Bedework/bw-webdav  PullRequestEvent   2991622   \n",
       "527042               CVEProject/cvelist  PullRequestEvent  32679304   \n",
       "501691           FasterXML/jackson-core  PullRequestEvent     55065   \n",
       "624805  FasterXML/jackson-modules-java8  PullRequestEvent     55065   \n",
       "\n",
       "          actor_name pr_status      pr_id  pr_number  \\\n",
       "343338       3breadt    closed   88005493         26   \n",
       "592948        douglm    closed  232818232          1   \n",
       "527042      cve-team    closed  153153827         78   \n",
       "501691  cowtowncoder    closed   88346565        322   \n",
       "624805  cowtowncoder    closed  224078993         87   \n",
       "\n",
       "                                               pr_api_url  \\\n",
       "343338  https://api.github.com/repos/3breadt/dd-plist/...   \n",
       "592948  https://api.github.com/repos/Bedework/bw-webda...   \n",
       "527042  https://api.github.com/repos/CVEProject/cvelis...   \n",
       "501691  https://api.github.com/repos/FasterXML/jackson...   \n",
       "624805  https://api.github.com/repos/FasterXML/jackson...   \n",
       "\n",
       "                                                   pr_url  \\\n",
       "343338        https://github.com/3breadt/dd-plist/pull/26   \n",
       "592948       https://github.com/Bedework/bw-webdav/pull/1   \n",
       "527042      https://github.com/CVEProject/cvelist/pull/78   \n",
       "501691  https://github.com/FasterXML/jackson-core/pull...   \n",
       "624805  https://github.com/FasterXML/jackson-modules-j...   \n",
       "\n",
       "                                              pr_diff_url  \\\n",
       "343338   https://github.com/3breadt/dd-plist/pull/26.diff   \n",
       "592948  https://github.com/Bedework/bw-webdav/pull/1.diff   \n",
       "527042  https://github.com/CVEProject/cvelist/pull/78....   \n",
       "501691  https://github.com/FasterXML/jackson-core/pull...   \n",
       "624805  https://github.com/FasterXML/jackson-modules-j...   \n",
       "\n",
       "                              ...                          \\\n",
       "343338                        ...                           \n",
       "592948                        ...                           \n",
       "527042                        ...                           \n",
       "501691                        ...                           \n",
       "624805                        ...                           \n",
       "\n",
       "               pr_merged_at pr_merged_status pr_comments_count  \\\n",
       "343338  2016-10-05 18:08:59             True               3.0   \n",
       "592948  2018-11-28 15:31:02             True               0.0   \n",
       "527042  2017-11-17 20:19:46             True               2.0   \n",
       "501691  2017-01-12 03:35:59             True              13.0   \n",
       "624805  2018-10-24 02:41:33             True               1.0   \n",
       "\n",
       "       pr_review_comments_count pr_commits_count pr_additions_count  \\\n",
       "343338                      0.0                2                 61   \n",
       "592948                      2.0                7                149   \n",
       "527042                      1.0                1                 62   \n",
       "501691                      0.0                2                 98   \n",
       "624805                      0.0                3                367   \n",
       "\n",
       "       pr_deletions_count pr_changed_files_count  \\\n",
       "343338                 48                    2.0   \n",
       "592948                 59                    8.0   \n",
       "527042                  0                    1.0   \n",
       "501691                  2                    3.0   \n",
       "624805                 50                    6.0   \n",
       "\n",
       "                                                 pr_title  \\\n",
       "343338                Please consider a few minor changes   \n",
       "592948                                         secure xml   \n",
       "527042                             Added CVE-2017-1000190   \n",
       "501691  Trim tokens in error messages to 256 byte to p...   \n",
       "624805  Prevent unbounded latency converting decimals ...   \n",
       "\n",
       "                                                  pr_body  \n",
       "343338  1) Take steps to guard against XXE attacks (no...  \n",
       "592948  I found out that this library is open to some ...  \n",
       "527042                                                NaN  \n",
       "501691  See https://issues.jboss.org/browse/JBEAP-6316...  \n",
       "624805  This change prevents latency explosions when w...  \n",
       "\n",
       "[5 rows x 27 columns]"
      ]
     },
     "execution_count": 252,
     "metadata": {},
     "output_type": "execute_result"
    }
   ],
   "source": [
    "cve_prs.head()"
   ]
  },
  {
   "cell_type": "markdown",
   "metadata": {},
   "source": [
    "# Getting CVE Positive Pull Requests not found in Big Query Data"
   ]
  },
  {
   "cell_type": "code",
   "execution_count": 253,
   "metadata": {},
   "outputs": [
    {
     "data": {
      "text/plain": [
       "(['https://github.com/webbynode/webbynode/pull/85',\n",
       "  'https://github.com/scrapy/scrapy/pull/676',\n",
       "  'https://github.com/jupyter-widgets/ipywidgets/pull/591',\n",
       "  'https://github.com/ruby-i18n/i18n/pull/289',\n",
       "  'https://github.com/resteasy/Resteasy/pull/425',\n",
       "  'https://github.com/wildfly/wildfly/pull/5234',\n",
       "  'https://github.com/apache/airflow/pull/2054',\n",
       "  'https://github.com/divio/cmsplugin-filer/pull/185',\n",
       "  'https://github.com/richfaces4/core/pull/21',\n",
       "  'https://github.com/pypa/pip/pull/1098'],\n",
       " 49)"
      ]
     },
     "execution_count": 253,
     "metadata": {},
     "output_type": "execute_result"
    }
   ],
   "source": [
    "found_pr_urls = cve_prs.pr_url.tolist()\n",
    "not_found_pr_urls = list(set(cve_pr_links) - set(found_pr_urls))\n",
    "not_found_pr_urls[:10], len(not_found_pr_urls)"
   ]
  },
  {
   "cell_type": "code",
   "execution_count": 257,
   "metadata": {},
   "outputs": [
    {
     "data": {
      "text/plain": [
       "['https://api.github.com/repos/webbynode/webbynode/pulls/85',\n",
       " 'https://api.github.com/repos/scrapy/scrapy/pulls/676',\n",
       " 'https://api.github.com/repos/jupyter-widgets/ipywidgets/pulls/591',\n",
       " 'https://api.github.com/repos/ruby-i18n/i18n/pulls/289',\n",
       " 'https://api.github.com/repos/resteasy/Resteasy/pulls/425',\n",
       " 'https://api.github.com/repos/wildfly/wildfly/pulls/5234',\n",
       " 'https://api.github.com/repos/apache/airflow/pulls/2054',\n",
       " 'https://api.github.com/repos/divio/cmsplugin-filer/pulls/185',\n",
       " 'https://api.github.com/repos/richfaces4/core/pulls/21',\n",
       " 'https://api.github.com/repos/pypa/pip/pulls/1098']"
      ]
     },
     "execution_count": 257,
     "metadata": {},
     "output_type": "execute_result"
    }
   ],
   "source": [
    "not_found_api_urls = [re.sub('/pull/', '/pulls/', \n",
    "                             ('https://api.github.com/repos/'+re.search(r'.*github.com/(.*)', link, re.I)\n",
    "                              .groups()[0]), re.I)\n",
    "                          for link in not_found_pr_urls]\n",
    "not_found_api_urls[:10]"
   ]
  },
  {
   "cell_type": "markdown",
   "metadata": {},
   "source": [
    "# Extracting not found CVE Pull Requests with GitHub API"
   ]
  },
  {
   "cell_type": "code",
   "execution_count": 259,
   "metadata": {},
   "outputs": [
    {
     "name": "stderr",
     "output_type": "stream",
     "text": [
      "100%|██████████| 49/49 [01:12<00:00,  1.50s/it]"
     ]
    },
    {
     "name": "stdout",
     "output_type": "stream",
     "text": [
      "49\n"
     ]
    },
    {
     "name": "stderr",
     "output_type": "stream",
     "text": [
      "\n"
     ]
    }
   ],
   "source": [
    "data = []\n",
    "for link in tqdm(not_found_api_urls):\n",
    "    response = requests.get(link,\n",
    "                            auth=('dipanjanS', os.environ['GITHUB_TOKEN']))\n",
    "    if not response.status_code == 200:\n",
    "        print('Failed for link: '+link)\n",
    "        # log this later\n",
    "    else:\n",
    "        content = response.json()\n",
    "        pr_dict = {\n",
    "            'repo_name': re.search(r'.*github.com/repos/(.*?)/pulls', \n",
    "                                   link, re.I).groups()[0],\n",
    "            'event_type': 'PullRequestEvent',\n",
    "            'actor_id': content.get('user').get('id'),\n",
    "            'actor_name': content.get('user').get('login'),\n",
    "            'pr_status': content.get('state'),\n",
    "            'pr_id': content.get('id'),\n",
    "            'pr_number': content.get('number'),\n",
    "            'pr_api_url': content.get('url'),\n",
    "            'pr_url': content.get('html_url'),\n",
    "            'pr_diff_url': content.get('diff_url'),\n",
    "            'pr_patch_url': content.get('patch_url'),\n",
    "            'pr_creator_name': content.get('user').get('login'),\n",
    "            'pr_creator_api_url': content.get('user').get('url'),\n",
    "            'pr_creator_url': content.get('user').get('html_url'),         \n",
    "            'pr_created_at': content.get('created_at'),\n",
    "            'pr_updated_at': content.get('updated_at'),\n",
    "            'pr_closed_at': content.get('closed_at'),\n",
    "            'pr_merged_at': content.get('merged_at'),\n",
    "            'pr_merged_status': content.get('merged'),\n",
    "            'pr_comments_count': content.get('comments'),\n",
    "            'pr_review_comments_count': content.get('review_comments'),\n",
    "            'pr_commits_count': content.get('commits'),\n",
    "            'pr_additions_count': content.get('additions'),\n",
    "            'pr_deletions_count': content.get('deletions'),\n",
    "            'pr_changed_files_count': content.get('changed_files'),\n",
    "            'pr_title': content.get('title'),\n",
    "            'pr_body': content.get('body')\n",
    "        }\n",
    "        if pr_dict:\n",
    "            data.append(pr_dict)\n",
    "\n",
    "print(len(data))"
   ]
  },
  {
   "cell_type": "code",
   "execution_count": 260,
   "metadata": {},
   "outputs": [
    {
     "name": "stdout",
     "output_type": "stream",
     "text": [
      "<class 'pandas.core.frame.DataFrame'>\n",
      "RangeIndex: 49 entries, 0 to 48\n",
      "Data columns (total 27 columns):\n",
      "repo_name                   49 non-null object\n",
      "event_type                  49 non-null object\n",
      "actor_id                    49 non-null int64\n",
      "actor_name                  49 non-null object\n",
      "pr_status                   49 non-null object\n",
      "pr_id                       49 non-null int64\n",
      "pr_number                   49 non-null int64\n",
      "pr_api_url                  49 non-null object\n",
      "pr_url                      49 non-null object\n",
      "pr_diff_url                 49 non-null object\n",
      "pr_patch_url                49 non-null object\n",
      "pr_creator_name             49 non-null object\n",
      "pr_creator_api_url          49 non-null object\n",
      "pr_creator_url              49 non-null object\n",
      "pr_created_at               49 non-null object\n",
      "pr_updated_at               49 non-null object\n",
      "pr_closed_at                48 non-null object\n",
      "pr_merged_at                33 non-null object\n",
      "pr_merged_status            49 non-null bool\n",
      "pr_comments_count           49 non-null int64\n",
      "pr_review_comments_count    49 non-null int64\n",
      "pr_commits_count            49 non-null int64\n",
      "pr_additions_count          49 non-null int64\n",
      "pr_deletions_count          49 non-null int64\n",
      "pr_changed_files_count      49 non-null int64\n",
      "pr_title                    49 non-null object\n",
      "pr_body                     48 non-null object\n",
      "dtypes: bool(1), int64(9), object(17)\n",
      "memory usage: 10.1+ KB\n"
     ]
    }
   ],
   "source": [
    "cve_prs_nf = pd.DataFrame(data)\n",
    "cve_prs_nf = cve_prs_nf[cve_prs.columns.tolist()]\n",
    "cve_prs_nf.info()"
   ]
  },
  {
   "cell_type": "code",
   "execution_count": 261,
   "metadata": {},
   "outputs": [
    {
     "data": {
      "text/html": [
       "<div>\n",
       "<style scoped>\n",
       "    .dataframe tbody tr th:only-of-type {\n",
       "        vertical-align: middle;\n",
       "    }\n",
       "\n",
       "    .dataframe tbody tr th {\n",
       "        vertical-align: top;\n",
       "    }\n",
       "\n",
       "    .dataframe thead th {\n",
       "        text-align: right;\n",
       "    }\n",
       "</style>\n",
       "<table border=\"1\" class=\"dataframe\">\n",
       "  <thead>\n",
       "    <tr style=\"text-align: right;\">\n",
       "      <th></th>\n",
       "      <th>repo_name</th>\n",
       "      <th>event_type</th>\n",
       "      <th>actor_id</th>\n",
       "      <th>actor_name</th>\n",
       "      <th>pr_status</th>\n",
       "      <th>pr_id</th>\n",
       "      <th>pr_number</th>\n",
       "      <th>pr_api_url</th>\n",
       "      <th>pr_url</th>\n",
       "      <th>pr_diff_url</th>\n",
       "      <th>...</th>\n",
       "      <th>pr_merged_at</th>\n",
       "      <th>pr_merged_status</th>\n",
       "      <th>pr_comments_count</th>\n",
       "      <th>pr_review_comments_count</th>\n",
       "      <th>pr_commits_count</th>\n",
       "      <th>pr_additions_count</th>\n",
       "      <th>pr_deletions_count</th>\n",
       "      <th>pr_changed_files_count</th>\n",
       "      <th>pr_title</th>\n",
       "      <th>pr_body</th>\n",
       "    </tr>\n",
       "  </thead>\n",
       "  <tbody>\n",
       "    <tr>\n",
       "      <th>0</th>\n",
       "      <td>webbynode/webbynode</td>\n",
       "      <td>PullRequestEvent</td>\n",
       "      <td>1929595</td>\n",
       "      <td>lcashdol</td>\n",
       "      <td>closed</td>\n",
       "      <td>10282557</td>\n",
       "      <td>85</td>\n",
       "      <td>https://api.github.com/repos/webbynode/webbyno...</td>\n",
       "      <td>https://github.com/webbynode/webbynode/pull/85</td>\n",
       "      <td>https://github.com/webbynode/webbynode/pull/85...</td>\n",
       "      <td>...</td>\n",
       "      <td>None</td>\n",
       "      <td>False</td>\n",
       "      <td>3</td>\n",
       "      <td>0</td>\n",
       "      <td>2</td>\n",
       "      <td>5</td>\n",
       "      <td>3</td>\n",
       "      <td>2</td>\n",
       "      <td>Untested fix for the command injection vulnera...</td>\n",
       "      <td>Hi,\\nI didn't test this fix, but it should mit...</td>\n",
       "    </tr>\n",
       "    <tr>\n",
       "      <th>1</th>\n",
       "      <td>scrapy/scrapy</td>\n",
       "      <td>PullRequestEvent</td>\n",
       "      <td>360285</td>\n",
       "      <td>csalazar</td>\n",
       "      <td>closed</td>\n",
       "      <td>14236088</td>\n",
       "      <td>676</td>\n",
       "      <td>https://api.github.com/repos/scrapy/scrapy/pul...</td>\n",
       "      <td>https://github.com/scrapy/scrapy/pull/676</td>\n",
       "      <td>https://github.com/scrapy/scrapy/pull/676.diff</td>\n",
       "      <td>...</td>\n",
       "      <td>2014-04-08T17:40:04Z</td>\n",
       "      <td>True</td>\n",
       "      <td>10</td>\n",
       "      <td>2</td>\n",
       "      <td>4</td>\n",
       "      <td>34</td>\n",
       "      <td>3</td>\n",
       "      <td>4</td>\n",
       "      <td>Fixed XXE flaw in sitemap reader</td>\n",
       "      <td>The XML reader, used by SitemapSpider to proce...</td>\n",
       "    </tr>\n",
       "    <tr>\n",
       "      <th>2</th>\n",
       "      <td>jupyter-widgets/ipywidgets</td>\n",
       "      <td>PullRequestEvent</td>\n",
       "      <td>151929</td>\n",
       "      <td>minrk</td>\n",
       "      <td>closed</td>\n",
       "      <td>70481422</td>\n",
       "      <td>591</td>\n",
       "      <td>https://api.github.com/repos/jupyter-widgets/i...</td>\n",
       "      <td>https://github.com/jupyter-widgets/ipywidgets/...</td>\n",
       "      <td>https://github.com/jupyter-widgets/ipywidgets/...</td>\n",
       "      <td>...</td>\n",
       "      <td>2016-05-19T18:59:40Z</td>\n",
       "      <td>True</td>\n",
       "      <td>6</td>\n",
       "      <td>0</td>\n",
       "      <td>2</td>\n",
       "      <td>12</td>\n",
       "      <td>6</td>\n",
       "      <td>1</td>\n",
       "      <td>only filter stored snapshots</td>\n",
       "      <td>don't re-render outputs on the page\\n\\nThis sh...</td>\n",
       "    </tr>\n",
       "    <tr>\n",
       "      <th>3</th>\n",
       "      <td>ruby-i18n/i18n</td>\n",
       "      <td>PullRequestEvent</td>\n",
       "      <td>628</td>\n",
       "      <td>lmarlow</td>\n",
       "      <td>closed</td>\n",
       "      <td>21880255</td>\n",
       "      <td>289</td>\n",
       "      <td>https://api.github.com/repos/ruby-i18n/i18n/pu...</td>\n",
       "      <td>https://github.com/ruby-i18n/i18n/pull/289</td>\n",
       "      <td>https://github.com/ruby-i18n/i18n/pull/289.diff</td>\n",
       "      <td>...</td>\n",
       "      <td>2015-01-10T19:17:49Z</td>\n",
       "      <td>True</td>\n",
       "      <td>10</td>\n",
       "      <td>0</td>\n",
       "      <td>1</td>\n",
       "      <td>7</td>\n",
       "      <td>1</td>\n",
       "      <td>2</td>\n",
       "      <td>Teach Hash#slice to only include keys that exi...</td>\n",
       "      <td>Previously this would blow up if you asked for...</td>\n",
       "    </tr>\n",
       "    <tr>\n",
       "      <th>4</th>\n",
       "      <td>resteasy/Resteasy</td>\n",
       "      <td>PullRequestEvent</td>\n",
       "      <td>538611</td>\n",
       "      <td>ronsigal</td>\n",
       "      <td>closed</td>\n",
       "      <td>10075938</td>\n",
       "      <td>425</td>\n",
       "      <td>https://api.github.com/repos/resteasy/Resteasy...</td>\n",
       "      <td>https://github.com/resteasy/Resteasy/pull/425</td>\n",
       "      <td>https://github.com/resteasy/Resteasy/pull/425....</td>\n",
       "      <td>...</td>\n",
       "      <td>2013-12-04T15:39:29Z</td>\n",
       "      <td>True</td>\n",
       "      <td>0</td>\n",
       "      <td>0</td>\n",
       "      <td>7</td>\n",
       "      <td>376</td>\n",
       "      <td>368</td>\n",
       "      <td>15</td>\n",
       "      <td>Branch_2_3: RESTEASY-869, RESTEASY-938</td>\n",
       "      <td>This is my attempt to unravel the disastrous P...</td>\n",
       "    </tr>\n",
       "  </tbody>\n",
       "</table>\n",
       "<p>5 rows × 27 columns</p>\n",
       "</div>"
      ],
      "text/plain": [
       "                    repo_name        event_type  actor_id actor_name  \\\n",
       "0         webbynode/webbynode  PullRequestEvent   1929595   lcashdol   \n",
       "1               scrapy/scrapy  PullRequestEvent    360285   csalazar   \n",
       "2  jupyter-widgets/ipywidgets  PullRequestEvent    151929      minrk   \n",
       "3              ruby-i18n/i18n  PullRequestEvent       628    lmarlow   \n",
       "4           resteasy/Resteasy  PullRequestEvent    538611   ronsigal   \n",
       "\n",
       "  pr_status     pr_id  pr_number  \\\n",
       "0    closed  10282557         85   \n",
       "1    closed  14236088        676   \n",
       "2    closed  70481422        591   \n",
       "3    closed  21880255        289   \n",
       "4    closed  10075938        425   \n",
       "\n",
       "                                          pr_api_url  \\\n",
       "0  https://api.github.com/repos/webbynode/webbyno...   \n",
       "1  https://api.github.com/repos/scrapy/scrapy/pul...   \n",
       "2  https://api.github.com/repos/jupyter-widgets/i...   \n",
       "3  https://api.github.com/repos/ruby-i18n/i18n/pu...   \n",
       "4  https://api.github.com/repos/resteasy/Resteasy...   \n",
       "\n",
       "                                              pr_url  \\\n",
       "0     https://github.com/webbynode/webbynode/pull/85   \n",
       "1          https://github.com/scrapy/scrapy/pull/676   \n",
       "2  https://github.com/jupyter-widgets/ipywidgets/...   \n",
       "3         https://github.com/ruby-i18n/i18n/pull/289   \n",
       "4      https://github.com/resteasy/Resteasy/pull/425   \n",
       "\n",
       "                                         pr_diff_url  \\\n",
       "0  https://github.com/webbynode/webbynode/pull/85...   \n",
       "1     https://github.com/scrapy/scrapy/pull/676.diff   \n",
       "2  https://github.com/jupyter-widgets/ipywidgets/...   \n",
       "3    https://github.com/ruby-i18n/i18n/pull/289.diff   \n",
       "4  https://github.com/resteasy/Resteasy/pull/425....   \n",
       "\n",
       "                         ...                                  pr_merged_at  \\\n",
       "0                        ...                                          None   \n",
       "1                        ...                          2014-04-08T17:40:04Z   \n",
       "2                        ...                          2016-05-19T18:59:40Z   \n",
       "3                        ...                          2015-01-10T19:17:49Z   \n",
       "4                        ...                          2013-12-04T15:39:29Z   \n",
       "\n",
       "  pr_merged_status pr_comments_count pr_review_comments_count  \\\n",
       "0            False                 3                        0   \n",
       "1             True                10                        2   \n",
       "2             True                 6                        0   \n",
       "3             True                10                        0   \n",
       "4             True                 0                        0   \n",
       "\n",
       "  pr_commits_count pr_additions_count pr_deletions_count  \\\n",
       "0                2                  5                  3   \n",
       "1                4                 34                  3   \n",
       "2                2                 12                  6   \n",
       "3                1                  7                  1   \n",
       "4                7                376                368   \n",
       "\n",
       "  pr_changed_files_count                                           pr_title  \\\n",
       "0                      2  Untested fix for the command injection vulnera...   \n",
       "1                      4                   Fixed XXE flaw in sitemap reader   \n",
       "2                      1                       only filter stored snapshots   \n",
       "3                      2  Teach Hash#slice to only include keys that exi...   \n",
       "4                     15             Branch_2_3: RESTEASY-869, RESTEASY-938   \n",
       "\n",
       "                                             pr_body  \n",
       "0  Hi,\\nI didn't test this fix, but it should mit...  \n",
       "1  The XML reader, used by SitemapSpider to proce...  \n",
       "2  don't re-render outputs on the page\\n\\nThis sh...  \n",
       "3  Previously this would blow up if you asked for...  \n",
       "4  This is my attempt to unravel the disastrous P...  \n",
       "\n",
       "[5 rows x 27 columns]"
      ]
     },
     "execution_count": 261,
     "metadata": {},
     "output_type": "execute_result"
    }
   ],
   "source": [
    "cve_prs_nf.head()"
   ]
  },
  {
   "cell_type": "markdown",
   "metadata": {},
   "source": [
    "# Labeling CVE and non-CVE GitHub Pull Requests "
   ]
  },
  {
   "cell_type": "code",
   "execution_count": 262,
   "metadata": {},
   "outputs": [
    {
     "data": {
      "text/plain": [
       "(359755, 27)"
      ]
     },
     "execution_count": 262,
     "metadata": {},
     "output_type": "execute_result"
    }
   ],
   "source": [
    "gh_bq_prs.shape"
   ]
  },
  {
   "cell_type": "code",
   "execution_count": 263,
   "metadata": {},
   "outputs": [
    {
     "data": {
      "text/plain": [
       "((329, 27), (359475, 27))"
      ]
     },
     "execution_count": 263,
     "metadata": {},
     "output_type": "execute_result"
    }
   ],
   "source": [
    "gh_bq_prs_positive = pd.concat([cve_prs, cve_prs_nf], axis=0)\n",
    "gh_bq_prs_negative = gh_bq_prs.drop(cve_prs.index.tolist())\n",
    "gh_bq_prs_positive.shape, gh_bq_prs_negative.shape"
   ]
  },
  {
   "cell_type": "code",
   "execution_count": 266,
   "metadata": {},
   "outputs": [],
   "source": [
    "gh_bq_prs_positive['class_label'] = 2\n",
    "gh_bq_prs_negative['class_label'] = 0"
   ]
  },
  {
   "cell_type": "code",
   "execution_count": 267,
   "metadata": {},
   "outputs": [
    {
     "data": {
      "text/plain": [
       "(359804, 28)"
      ]
     },
     "execution_count": 267,
     "metadata": {},
     "output_type": "execute_result"
    }
   ],
   "source": [
    "gh_bq_prs_processed = pd.concat([gh_bq_prs_negative, gh_bq_prs_positive], axis=0)\n",
    "gh_bq_prs_processed.shape"
   ]
  },
  {
   "cell_type": "code",
   "execution_count": 268,
   "metadata": {},
   "outputs": [],
   "source": [
    "gh_bq_prs_processed.to_csv('GH_prs_clean_labeled.csv', index=False)"
   ]
  }
 ],
 "metadata": {
  "kernelspec": {
   "display_name": "Python 3",
   "language": "python",
   "name": "python3"
  },
  "language_info": {
   "codemirror_mode": {
    "name": "ipython",
    "version": 3
   },
   "file_extension": ".py",
   "mimetype": "text/x-python",
   "name": "python",
   "nbconvert_exporter": "python",
   "pygments_lexer": "ipython3",
   "version": "3.6.5"
  }
 },
 "nbformat": 4,
 "nbformat_minor": 2
}
