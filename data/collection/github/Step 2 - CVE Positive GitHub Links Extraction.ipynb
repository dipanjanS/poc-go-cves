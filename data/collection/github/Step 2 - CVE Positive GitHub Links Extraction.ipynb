{
 "cells": [
  {
   "cell_type": "markdown",
   "metadata": {},
   "source": [
    "# Extract Potential CVE related Github Issue\\PR\\Commit links"
   ]
  },
  {
   "cell_type": "code",
   "execution_count": 88,
   "metadata": {},
   "outputs": [],
   "source": [
    "import pandas as pd\n",
    "import numpy as np\n",
    "import re\n",
    "from tqdm import tqdm\n",
    "import requests"
   ]
  },
  {
   "cell_type": "code",
   "execution_count": 2,
   "metadata": {},
   "outputs": [
    {
     "name": "stdout",
     "output_type": "stream",
     "text": [
      "<class 'pandas.core.frame.DataFrame'>\n",
      "RangeIndex: 1697 entries, 0 to 1696\n",
      "Data columns (total 9 columns):\n",
      "CVE ID           1222 non-null object\n",
      "Package name     1683 non-null object\n",
      "Ecosystem        1683 non-null object\n",
      "GH issue         679 non-null object\n",
      "GH PR            322 non-null object\n",
      "GH Commit        856 non-null object\n",
      "Bugzilla         245 non-null object\n",
      "ML               465 non-null object\n",
      "Other sources    34 non-null object\n",
      "dtypes: object(9)\n",
      "memory usage: 119.4+ KB\n"
     ]
    }
   ],
   "source": [
    "df = pd.read_csv('./GO CVEs Data - Data.csv')\n",
    "df.info()"
   ]
  },
  {
   "cell_type": "code",
   "execution_count": 3,
   "metadata": {},
   "outputs": [
    {
     "data": {
      "text/html": [
       "<div>\n",
       "<style scoped>\n",
       "    .dataframe tbody tr th:only-of-type {\n",
       "        vertical-align: middle;\n",
       "    }\n",
       "\n",
       "    .dataframe tbody tr th {\n",
       "        vertical-align: top;\n",
       "    }\n",
       "\n",
       "    .dataframe thead th {\n",
       "        text-align: right;\n",
       "    }\n",
       "</style>\n",
       "<table border=\"1\" class=\"dataframe\">\n",
       "  <thead>\n",
       "    <tr style=\"text-align: right;\">\n",
       "      <th></th>\n",
       "      <th>CVE ID</th>\n",
       "      <th>Package name</th>\n",
       "      <th>Ecosystem</th>\n",
       "      <th>GH issue</th>\n",
       "      <th>GH PR</th>\n",
       "      <th>GH Commit</th>\n",
       "      <th>Bugzilla</th>\n",
       "      <th>ML</th>\n",
       "      <th>Other sources</th>\n",
       "    </tr>\n",
       "  </thead>\n",
       "  <tbody>\n",
       "    <tr>\n",
       "      <th>0</th>\n",
       "      <td>CVE-2017-9805</td>\n",
       "      <td>struts2-rest-plugin</td>\n",
       "      <td>maven</td>\n",
       "      <td>NaN</td>\n",
       "      <td>NaN</td>\n",
       "      <td>https://github.com/apache/struts/commit/194947...</td>\n",
       "      <td>https://bugzilla.redhat.com/show_bug.cgi?id=14...</td>\n",
       "      <td>NaN</td>\n",
       "      <td>https://blogs.apache.org/foundation/entry/apac...</td>\n",
       "    </tr>\n",
       "    <tr>\n",
       "      <th>1</th>\n",
       "      <td>CVE-2018-8617</td>\n",
       "      <td>Microsoft.ChakraCore</td>\n",
       "      <td>nuget</td>\n",
       "      <td>NaN</td>\n",
       "      <td>https://github.com/Microsoft/ChakraCore/pull/5869</td>\n",
       "      <td>NaN</td>\n",
       "      <td>NaN</td>\n",
       "      <td>NaN</td>\n",
       "      <td>NaN</td>\n",
       "    </tr>\n",
       "    <tr>\n",
       "      <th>2</th>\n",
       "      <td>CVE-2018-8629</td>\n",
       "      <td>Microsoft.ChakraCore</td>\n",
       "      <td>nuget</td>\n",
       "      <td>NaN</td>\n",
       "      <td>https://github.com/Microsoft/ChakraCore/pull/5869</td>\n",
       "      <td>NaN</td>\n",
       "      <td>NaN</td>\n",
       "      <td>NaN</td>\n",
       "      <td>NaN</td>\n",
       "    </tr>\n",
       "    <tr>\n",
       "      <th>3</th>\n",
       "      <td>CVE-2018-6824</td>\n",
       "      <td>Microsoft.ChakraCore</td>\n",
       "      <td>nuget</td>\n",
       "      <td>NaN</td>\n",
       "      <td>https://github.com/Microsoft/ChakraCore/pull/5869</td>\n",
       "      <td>NaN</td>\n",
       "      <td>NaN</td>\n",
       "      <td>NaN</td>\n",
       "      <td>NaN</td>\n",
       "    </tr>\n",
       "    <tr>\n",
       "      <th>4</th>\n",
       "      <td>CVE-2018-8618</td>\n",
       "      <td>Microsoft.ChakraCore</td>\n",
       "      <td>nuget</td>\n",
       "      <td>NaN</td>\n",
       "      <td>https://github.com/Microsoft/ChakraCore/pull/5869</td>\n",
       "      <td>NaN</td>\n",
       "      <td>NaN</td>\n",
       "      <td>NaN</td>\n",
       "      <td>NaN</td>\n",
       "    </tr>\n",
       "  </tbody>\n",
       "</table>\n",
       "</div>"
      ],
      "text/plain": [
       "          CVE ID          Package name Ecosystem GH issue  \\\n",
       "0  CVE-2017-9805   struts2-rest-plugin     maven      NaN   \n",
       "1  CVE-2018-8617  Microsoft.ChakraCore     nuget      NaN   \n",
       "2  CVE-2018-8629  Microsoft.ChakraCore     nuget      NaN   \n",
       "3  CVE-2018-6824  Microsoft.ChakraCore     nuget      NaN   \n",
       "4  CVE-2018-8618  Microsoft.ChakraCore     nuget      NaN   \n",
       "\n",
       "                                               GH PR  \\\n",
       "0                                                NaN   \n",
       "1  https://github.com/Microsoft/ChakraCore/pull/5869   \n",
       "2  https://github.com/Microsoft/ChakraCore/pull/5869   \n",
       "3  https://github.com/Microsoft/ChakraCore/pull/5869   \n",
       "4  https://github.com/Microsoft/ChakraCore/pull/5869   \n",
       "\n",
       "                                           GH Commit  \\\n",
       "0  https://github.com/apache/struts/commit/194947...   \n",
       "1                                                NaN   \n",
       "2                                                NaN   \n",
       "3                                                NaN   \n",
       "4                                                NaN   \n",
       "\n",
       "                                            Bugzilla   ML  \\\n",
       "0  https://bugzilla.redhat.com/show_bug.cgi?id=14...  NaN   \n",
       "1                                                NaN  NaN   \n",
       "2                                                NaN  NaN   \n",
       "3                                                NaN  NaN   \n",
       "4                                                NaN  NaN   \n",
       "\n",
       "                                       Other sources  \n",
       "0  https://blogs.apache.org/foundation/entry/apac...  \n",
       "1                                                NaN  \n",
       "2                                                NaN  \n",
       "3                                                NaN  \n",
       "4                                                NaN  "
      ]
     },
     "execution_count": 3,
     "metadata": {},
     "output_type": "execute_result"
    }
   ],
   "source": [
    "df.head()"
   ]
  },
  {
   "cell_type": "code",
   "execution_count": 4,
   "metadata": {},
   "outputs": [
    {
     "name": "stdout",
     "output_type": "stream",
     "text": [
      "Before: (679,)\n",
      "After: (720,)\n"
     ]
    }
   ],
   "source": [
    "gh_issues = df['GH issue'].dropna().values\n",
    "print('Before:', gh_issues.shape)\n",
    "gh_issues = [item.strip().split('\\n') for item in gh_issues]\n",
    "gh_issues = np.array([str(item.strip()) for sublist in gh_issues for item in sublist])\n",
    "print('After:', gh_issues.shape)"
   ]
  },
  {
   "cell_type": "code",
   "execution_count": 5,
   "metadata": {},
   "outputs": [
    {
     "name": "stdout",
     "output_type": "stream",
     "text": [
      "Before: (322,)\n",
      "After: (357,)\n"
     ]
    }
   ],
   "source": [
    "gh_prs = df['GH PR'].dropna().values\n",
    "print('Before:', gh_prs.shape)\n",
    "gh_prs = [item.strip().split('\\n') for item in gh_prs]\n",
    "gh_prs = np.array([str(item.strip()) for sublist in gh_prs for item in sublist])\n",
    "print('After:', gh_prs.shape)"
   ]
  },
  {
   "cell_type": "code",
   "execution_count": 6,
   "metadata": {},
   "outputs": [
    {
     "name": "stdout",
     "output_type": "stream",
     "text": [
      "Before: (856,)\n",
      "After: (1056,)\n"
     ]
    }
   ],
   "source": [
    "gh_commits = df['GH Commit'].dropna().values\n",
    "print('Before:', gh_commits.shape)\n",
    "gh_commits = [item.strip().split('\\n') for item in gh_commits]\n",
    "gh_commits = np.array([str(item.strip()) for sublist in gh_commits for item in sublist])\n",
    "print('After:', gh_commits.shape)"
   ]
  },
  {
   "cell_type": "code",
   "execution_count": 7,
   "metadata": {},
   "outputs": [
    {
     "data": {
      "text/plain": [
       "(2133,)"
      ]
     },
     "execution_count": 7,
     "metadata": {},
     "output_type": "execute_result"
    }
   ],
   "source": [
    "gh_links = np.concatenate((gh_issues, gh_commits, gh_prs))\n",
    "gh_links.shape"
   ]
  },
  {
   "cell_type": "code",
   "execution_count": 44,
   "metadata": {},
   "outputs": [
    {
     "data": {
      "text/plain": [
       "(2033,)"
      ]
     },
     "execution_count": 44,
     "metadata": {},
     "output_type": "execute_result"
    }
   ],
   "source": [
    "gh_links = np.unique(gh_links)\n",
    "gh_links.shape"
   ]
  },
  {
   "cell_type": "markdown",
   "metadata": {},
   "source": [
    "# Extract and Save CVE related GitHub Links"
   ]
  },
  {
   "cell_type": "code",
   "execution_count": 92,
   "metadata": {},
   "outputs": [],
   "source": [
    "def get_github_cve_links(links):\n",
    "    \n",
    "    issues = []\n",
    "    prs = []\n",
    "    commits = []\n",
    "    \n",
    "    gh_pr_commit_pattern = r'(.*github.com/.*?)/pull/(.*?)/commits/(.*)'\n",
    "    gh_issue_pattern = r'(.*github.com/.*?)/issues/(.*)'    \n",
    "    gh_pr_pattern = r'(.*github.com/.*?)/pull/([0-9]*)'\n",
    "    gh_commit_pattern = r'(.*github.com/.*?)/commit/(.*)'\n",
    "    gh_compare_pattern = r'(.*github.com/.*?)/compare/.*'\n",
    "    \n",
    "    for link in tqdm(links):\n",
    "        \n",
    "        if re.search(gh_pr_commit_pattern, link, re.I):\n",
    "            matches = re.search(gh_pr_commit_pattern, link, re.I).groups()\n",
    "            pr = matches[0]+'/pull/'+matches[1].rstrip('/')\n",
    "            prs.append(pr)\n",
    "            \n",
    "            cm = matches[0]+'/commit/'+matches[2].rstrip('/')\n",
    "            commits.append(cm)\n",
    "            \n",
    "        elif re.search(gh_issue_pattern, link, re.I):\n",
    "            issues.append(link.rstrip('/'))   \n",
    "            \n",
    "        elif re.search(gh_pr_pattern, link, re.I):\n",
    "            matches = re.search(gh_pr_pattern, link, re.I).groups()\n",
    "            repo_name = matches[0]\n",
    "            pr = repo_name+'/pull/'+matches[1].rstrip('/')\n",
    "            prs.append(pr)\n",
    "            \n",
    "            patch_link = pr+'.patch'\n",
    "            response = requests.get(patch_link)\n",
    "            if response.status_code != 200:\n",
    "                print('Failed for link:'+patch_link)\n",
    "                # log failure here not print\n",
    "            else:\n",
    "                data = response.text\n",
    "                commit_hashes = re.findall(r'(?:\\n|^)from (.*?)\\s', data, re.I)\n",
    "                commit_hashes = [item for item in commit_hashes if item.isalnum()]\n",
    "                commit_links = [repo_name+'/commit/'+item.rstrip('/') for item in commit_hashes]\n",
    "                commits.extend(commit_links)                  \n",
    "            \n",
    "        elif re.search(gh_commit_pattern, link, re.I):\n",
    "            link = link.split('#')[0].strip().rstrip('/')\n",
    "            commits.append(link)\n",
    "            \n",
    "        elif re.search(gh_compare_pattern, link, re.I):\n",
    "            match = re.search(gh_compare_pattern, link, re.I).groups()\n",
    "            repo_name = match[0]\n",
    "            patch_link = link.rstrip('/')+'.patch'\n",
    "            response = requests.get(patch_link)\n",
    "            if response.status_code != 200:\n",
    "                print('Failed for link:'+patch_link)\n",
    "                # log failure here not print\n",
    "            else:\n",
    "                data = response.text\n",
    "                commit_hashes = re.findall(r'(?:\\n|^)from (.*?)\\s', data, re.I)\n",
    "                commit_hashes = [item for item in commit_hashes if item.isalnum()]\n",
    "                commit_links = [repo_name+'/commit/'+item.rstrip('/') for item in commit_hashes]\n",
    "                commits.extend(commit_links)\n",
    "                \n",
    "    \n",
    "    issues = np.array(list(set(issues)))\n",
    "    prs = np.array(list(set(prs)))\n",
    "    commits = np.array(list(set(commits)))\n",
    "            \n",
    "    return issues, prs, commits"
   ]
  },
  {
   "cell_type": "code",
   "execution_count": 93,
   "metadata": {},
   "outputs": [
    {
     "name": "stderr",
     "output_type": "stream",
     "text": [
      "100%|██████████| 2033/2033 [14:55<00:00,  2.27it/s] \n"
     ]
    }
   ],
   "source": [
    "issues, prs, commits = get_github_cve_links(gh_links)"
   ]
  },
  {
   "cell_type": "code",
   "execution_count": 94,
   "metadata": {},
   "outputs": [
    {
     "data": {
      "text/plain": [
       "((249,), (329,), (2980,))"
      ]
     },
     "execution_count": 94,
     "metadata": {},
     "output_type": "execute_result"
    }
   ],
   "source": [
    "issues.shape, prs.shape, commits.shape"
   ]
  },
  {
   "cell_type": "code",
   "execution_count": 97,
   "metadata": {},
   "outputs": [],
   "source": [
    "issue_df = pd.DataFrame(issues, columns=['issue'])\n",
    "pr_df = pd.DataFrame(prs, columns=['pull_request'])\n",
    "commits_df = pd.DataFrame(commits, columns=['commit'])"
   ]
  },
  {
   "cell_type": "code",
   "execution_count": 98,
   "metadata": {},
   "outputs": [],
   "source": [
    "issue_df.to_csv('gh_sec_issue_links.csv', index=False)\n",
    "pr_df.to_csv('gh_sec_pr_links.csv', index=False)\n",
    "commits_df.to_csv('gh_sec_commit_links.csv', index=False)"
   ]
  }
 ],
 "metadata": {
  "kernelspec": {
   "display_name": "Python 3",
   "language": "python",
   "name": "python3"
  },
  "language_info": {
   "codemirror_mode": {
    "name": "ipython",
    "version": 3
   },
   "file_extension": ".py",
   "mimetype": "text/x-python",
   "name": "python",
   "nbconvert_exporter": "python",
   "pygments_lexer": "ipython3",
   "version": "3.6.5"
  }
 },
 "nbformat": 4,
 "nbformat_minor": 2
}
